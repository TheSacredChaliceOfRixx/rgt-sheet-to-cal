{
 "metadata": {
  "language_info": {
   "codemirror_mode": {
    "name": "ipython",
    "version": 3
   },
   "file_extension": ".py",
   "mimetype": "text/x-python",
   "name": "python",
   "nbconvert_exporter": "python",
   "pygments_lexer": "ipython3",
   "version": "3.8.3-final"
  },
  "orig_nbformat": 2,
  "kernelspec": {
   "name": "python3",
   "display_name": "Python 3.8.3 64-bit",
   "metadata": {
    "interpreter": {
     "hash": "c6058771e76072e6df2838112285e22d9c068fdecc31a15dd5573347643739d1"
    }
   }
  }
 },
 "nbformat": 4,
 "nbformat_minor": 2,
 "cells": [
  {
   "cell_type": "code",
   "execution_count": 29,
   "metadata": {
    "tags": [
     "outputPrepend"
    ]
   },
   "outputs": [
    {
     "output_type": "stream",
     "name": "stdout",
     "text": [
      "elow 3.2W/kg']\n['Saturday', '31-Oct-20', '6:00 pm', '7:00 pm', '1:00 pm', '5:00 am', 'Flat Out Flyer', 'Borrego Springs', '39.0', '', 'Road Race', '1', 'http://app.rgtcycling.com/event?code=Duo3hB']\n['Sunday', '01-Nov-20', '12:30 pm', '1:30 pm', '7:30 am', '11:30 pm', 'WKG Streatley Hill Climb', 'Streatley hill climb', '1.0', '', 'Hill Climb', '20', 'http://app.rgtcycling.com/event?code=rJKeCla', 'UK national hillclimb championship 2020 course']\n['Sunday', '01-Nov-20', '3:30 pm', '4:30 pm', '10:30 am', '2:30 am', 'Spanish for Improvers', 'Catalunya GP circuit', '39km', '', 'Road Race', '14', 'http://app.rgtcycling.com/event?code=Ysy2hSK', 'Unofficial \"cat B/C/D\" race so rough guide only enter if you\\'re below 4W/kg']\n['Tuesday', '03-Nov-20', '6:30 pm', '7:30 pm', '1:30 pm', '5:30 am', 'Team 3r group ride on Cap Formentor', 'Cap Formentor', '22.4km', '515', 'Group Ride', '', 'http://app.rgtcycling.com/event?code=rV7WU9vgX6']\n['Tuesday', '03-Nov-20', '6:30 pm', '7:30 pm', '1:30 pm', '5:30 am', 'SSR at 8Bar Crit', '8 Bar, Berlin', '33km', '', 'Crit Race (32)', '4', 'http://app.rgtcycling.com/event?code=YUKMQ']\n['Tuesday', '03-Nov-20', '10:45 pm', '11:45 pm', '5:45 pm', '9:45 am', 'Vinland Tuesday Sprints', 'Canary Wharf', '23km', '', 'Crit Race (20)', '19', 'http://app.rgtcycling.com/event?code=GL60txy', 'First event in a new Tuesday evening series of short races for the US Eastern timezone']\n['Weds', '04-Nov-20', '7:30 pm', '8:30 pm', '2:30 pm', '6:30 am', 'WESTERLEY VR Race 2.1', 'Fawlty Towers Flyby (UK)', '15.9', '27', 'Road Race', '33', 'http://app.rgtcycling.com/event?code=kA9VCikSek', 'Fast and Furious WESTERLEY VR 16km races - Courses vary']\n['Weds', '04-Nov-20', '5:00 am', '6:00 am', '12:00 am', '4:00 pm', 'Wednesday Fasted Ride - Group Workout', 'Borrego Springs', '45 minutes', '-', 'Group Workout', '', 'http://app.rgtcycling.com/event?code=wUQhXlmLOq', \"45 minutes of aerobic Endurance riding where you'll spend 30 continuous minutes between 65-75% FTP.\"]\n['Thursday', '05-Nov-20', '6:30 pm', '7:30 pm', '1:30 pm', '5:30 am', 'ZRG THRSDY crit series', 'Waterkant Krit, Germany', '37.4', '80', 'Crit Race (40)', '', 'http://app.rgtcycling.com/event?code=ASnlX3fcli']\n['Thursday', '05-Nov-20', '10:45 pm', '11:45 pm', '5:45 pm', '9:45 am', 'Vinland Sprints - Thursday', 'Central Park NY', '19.6km', '218', 'Road race (2)', '2', 'http://app.rgtcycling.com/event?code=R2JhZk37B8', 'First event in a new Thursday evening series of short races for the US Eastern timezone']\n['Thurs', '05-Nov-20', '4:45 am', '5:45 am', '11:45 pm', '3:45 pm', 'Thursday Sweet Spot AM - Group Workout', 'Paterberg, Belgium', '60 minutes', '-', 'Group Workout', '', 'http://app.rgtcycling.com/event?code=wKo06Gd27s', \"7x6-minute intervals of rolling Sweet Spot (88-94% FTP) work to address aerobic fitness and muscular endurance via more than 40 minute's worth of time at intensity.\"]\n['Thurs', '05-Nov-20', '4:00 pm', '5:00 pm', '11:00 am', '3:00 am', 'Thursday Sweet Spot PM - Group Workout', 'Paterberg, Belgium', '60 minutes', '-', 'Group Workout', '', 'http://app.rgtcycling.com/event?code=zOVrmZ0lbC', \"7x6-minute intervals of rolling Sweet Spot (88-94% FTP) work to address aerobic fitness and muscular endurance via more than 40 minute's worth of time at intensity.\"]\n['Sunday', '08-Nov-20', '7:00 am', '8:00 am', '2:00 am', '6:00 pm', 'Asian Routes - group ride - Tirumala Hills', 'Tirumala Hills, India', '35.0', '846', 'Group Ride', '', 'http://app.rgtcycling.com/event?code=xIv0UEg26T', 'First event in a series on Sunday mornings (GMT) exploring routes in Asia']\n['Sunday', '08-Nov-20', '6:30 pm', '7:30 pm', '1:30 pm', '5:30 am', \"OTR: Women's Weekender\", 'Loch Leven (UK)', '31km', '274', 'Road Race', '', 'http://app.rgtcycling.com/event?code=ZCIbyb5I5X', 'Womens only, open to all categories']\n['Tuesday', '10-Nov-20', '7:00 pm', '7:30 pm', '2:00 pm', '6:00 am', 'AEST Juicy Tuesday Race 3', 'Thornwood Basher Loop 4 Laps', '28.8km', '', 'Road Race', '', 'http://app.rgtcycling.com/event?code=xFapsAzwGN', 'All results will goto GC, AEST Overall points league and Juicy Tuesday League']\n['Tuesday', '10-Nov-20', '6:30 pm', '7:30 pm', '1:30 pm', '5:30 am', 'Team3R Group Ride', 'Pienza, Italy', '24.6', '705', 'Group Ride', '', 'http://app.rgtcycling.com/event?code=ALyyn95B4I', 'Team3R Group Ride on the Pienza Course.']\n['Tuesday', '10-Nov-20', '6:30 pm', '7:30 pm', '1:30 pm', '5:30 am', 'SSR Racing the Vuelta', 'Magic roads , undulating to San Juan De Los Terreros ', '45 min', '', 'Road Race', '60', 'http://app.rgtcycling.com/event?code=48MyCr4OZw', 'SSR Tuesday Race night']\n['Weds', '11-Nov-20', '5:00 am', '6:00 am', '7:00 am', '8:00 am', 'Wednesday Fasted Ride - Group Workout', 'Magic Roads, flat-ish', '45 minutes', '-', 'Group Workout', '', 'http://app.rgtcycling.com/event?code=1w5zgQzy5T', 'light Endurance work spent mostly between 50-60% FTP.']\n['Thursday', '12-Nov-20', '4:45 am', '5:45 am', '11:45 pm', '3:45 pm', 'Thursday Sweet Spot Group Workout AM', 'Pienza', '73 minutes', '-', 'Group Workout', '', 'http://app.rgtcycling.com/event?code=x3mfnfUKUC', '4x10-minute Sweet Spot intervals ranging between 88-94% FTP with 6-minute recoveries between intervals.']\n['Thursday', '12-Nov-20', '4:00 pm', '5:00 pm', '11:00 am', '3:00 am', 'Thursday Sweet Spot Group Workout PM', 'Pienza', '73 minutes', '-', 'Group Workout', '', 'http://app.rgtcycling.com/event?code=GuVAzd0wOI', '4x10-minute Sweet Spot intervals ranging between 88-94% FTP with 6-minute recoveries between intervals.']\n['Mon', '16-Nov-20', '9:30 am', '10:30 am', '4:30 am', '8:30 pm', 'El Capdella 1', 'El Capdella', '20.0', '400', 'Group Ride', '', 'http://app.rgtcycling.com/event?code=0VvgSpyg9z', 'Virtual Velo Vacation']\n['Mon', '16-Nov-20', '7:30 pm', '8:30 pm', '2:30 pm', '6:30 am', 'El Capdella 2', 'El Capdella', '20.0', '400', 'Group Ride', '', 'http://app.rgtcycling.com/event?code=proGMab3et', 'Virtual Velo Vacation']\n['Friday', '13-Nov-20', '7:30 pm', '8:30 pm', '2:30 pm', '6:30 am', 'Team3R Group Ride', 'Cap Formentor', '22.4', '515', 'Group Ride', '', 'http://app.rgtcycling.com/event?code=xVOD25TIXj']\n['Tuesday', '17-Nov-20', '6:30 pm', '7:30 pm', '1:30 pm', '5:30 am', 'SSR Tuesday Betteshanger', 'Betteshanger Circuit ', '39.7 km', '168m', 'Road Race', '', '', 'SSR Tuesday Race night at the Betteshanger Circuit 12 laps']\n['Tues', '17-Nov-20', '9:30 am', '10:30 am', '4:30 am', '8:30 pm', 'Coll de Sa Batalla 1', 'Coll de Sa Batalla', '25.0', '625', 'Group Ride', '', 'http://app.rgtcycling.com/event?code=sarvv9RMs0', 'Virtual Velo Vacation']\n['Tues', '17-Nov-20', '7:30 pm', '8:30 pm', '2:30 pm', '6:30 am', 'Coll de Sa Batalla 2', 'Coll de Sa Batalla', '25.0', '625', 'Group Ride', '', 'http://app.rgtcycling.com/event?code=I2jLbpfBCj', 'Virtual Velo Vacation']\n['Weds', '18-Nov-20', '9:00 am', '10:00 am', '4:00 am', '8:00 pm', 'Shiftwork Race 2', 'Champs Elysees, France', '40.0km', '228', 'Crit Race (6)', '1', 'http://app.rgtcycling.com/event?code=aNNPtJh', 'Race 2 of the shiftwork series for UK morning and Oceania Evening.']\n['Weds', '18-Nov-20', '7:30 pm', '8:30 pm', '2:30 pm', '6:30 am', 'WESTERLEY VR Race 2.2', 'A Game of Chess (UK)', '16.0', '72', 'Road Race', '17', 'http://app.rgtcycling.com/event?code=B9Is8FZYQD', 'Fast and Furious WESTERLEY VR 16km races - Courses vary']\n['Wed', '18-Nov-20', '9:30 am', '10:30 am', '4:30 am', '8:30 pm', 'Puig de Randa 1', 'Puig de Randa', '24.7', '586', 'Group Ride', '', 'http://app.rgtcycling.com/event?code=S4YhHE37yi', 'Virtual Velo Vacation']\n['Wed', '18-Nov-20', '7:30 pm', '8:30 pm', '2:30 pm', '6:30 am', 'Puig de Randa 2', 'Puig de Randa', '24.7', '586', 'Group Ride', '', 'http://app.rgtcycling.com/event?code=wWQCLavjbd', 'Virtual Velo Vacation']\n['Thu', '19-Nov-20', '9:30 am', '10:30 am', '4:30 am', '8:30 pm', \"Coll de Soller (N) + Coll d'Honor 1\", \"Coll de Soller (N) + Coll d'Honor\", '26.0', '836', 'Group Ride', '', 'http://app.rgtcycling.com/event?code=NBzhYSKKqE', 'Virtual Velo Vacation']\n['Thu', '19-Nov-20', '7:30 pm', '8:30 pm', '2:30 pm', '6:30 am', \"Coll de Soller (N) + Coll d'Honor 2\", \"Coll de Soller (N) + Coll d'Honor\", '26.0', '836', 'Group Ride', '', 'http://app.rgtcycling.com/event?code=o0p4oedm6m', 'Virtual Velo Vacation']\n['Fri', '20-Nov-20', '9:30 am', '10:30 am', '4:30 am', '8:30 pm', 'La Palma Street Circuit 1', 'La Palma Street Circuit', '30.0', '132', 'Group Ride', '', 'http://app.rgtcycling.com/event?code=leHaWt3kWA', 'Virtual Velo Vacation']\n['Fri', '20-Nov-20', '7:30 pm', '8:30 pm', '2:30 pm', '6:30 am', 'La Palma Street Circuit 2', 'La Palma Street Circuit', '30.0', '132', 'Group Ride', '', 'http://app.rgtcycling.com/event?code=PpPm3OKUD3', 'Virtual Velo Vacation']\n['Sat', '21-Nov-20', '8:00 am', '9:00 am', '3:00 am', '7:00 pm', 'El Capdella 3', 'El Capdella', '20.0', '400', 'Group Ride', '', 'http://app.rgtcycling.com/event?code=YCNqPsBd6L', 'Virtual Velo Vacation']\n['Sat', '21-Nov-20', '10:30 am', '11:30 am', '5:30 am', '9:30 pm', 'Coll de Sa Batalla 3', 'Coll de Sa Batalla', '25.0', '625', 'Group Ride', '', 'http://app.rgtcycling.com/event?code=jGNrld1Fr9', 'Virtual Velo Vacation']\n['Sat', '21-Nov-20', '7:30 pm', '8:30 pm', '2:30 pm', '6:30 am', 'Puig de Randa 3', 'Puig de Randa', '24.7', '586', 'Group Ride', '', 'http://app.rgtcycling.com/event?code=MEH0yP0t1w', 'Virtual Velo Vacation']\n['Sun', '22-Nov-20', '8:00 am', '9:00 am', '3:00 am', '7:00 pm', '5 Sunday - The road to Imperial century', 'Borrego Springs', '69.0', '-', 'Group Ride', '', 'http://app.rgtcycling.com/event?code=mF6GwjrRqP', 'Preparation group ride for the imperial century on 20th of December']\n['Sun', '22-Nov-20', '2:00 pm', '3:00 pm', '9:00 am', '1:00 am', '5 Sunday - The road to Imperial century', 'Borrego Springs', '69.0', '-', 'Group Ride', '', 'http://app.rgtcycling.com/event?code=1fMPBSx4J7', 'Preparation group ride for the imperial century on 20th of December']\n['Sun', '22-Nov-20', '8:00 am', '9:00 am', '3:00 am', '7:00 pm', \"Coll de Soller (N) + Coll d'Honor 3\", \"Coll de Soller (N) + Coll d'Honor\", '26.0', '836', 'Group Ride', '', 'http://app.rgtcycling.com/event?code=N6YCrcuiIf', 'Virtual Velo Vacation']\n['Sun', '22-Nov-20', '7:30 pm', '8:30 pm', '2:30 pm', '6:30 am', 'La Palma Street Circuit 3', 'La Palma Street Circuit', '30.0', '132', 'Group Ride', '', 'http://app.rgtcycling.com/event?code=lOAl0PaQHW', 'Virtual Velo Vacation']\n['Mon', '23-Nov-20', '9:30 am', '10:30 am', '4:30 am', '8:30 pm', 'Coll de Femenia 1', 'Coll de Femenia', '19.6', '525', 'Group Ride', '', 'http://app.rgtcycling.com/event?code=c905l2wILT', 'Virtual Velo Vacation']\n['Mon', '23-Nov-20', '7:30 pm', '8:30 pm', '2:30 pm', '6:30 am', 'Coll de Femenia 2', 'Coll de Femenia', '19.6', '525', 'Group Ride', '', 'http://app.rgtcycling.com/event?code=Osr4zbeOcd', 'Virtual Velo Vacation']\n['Friday', '20-Nov-20', '7:30 pm', '8:30 pm', '2:30 pm', '6:30 am', 'Team3R Group Ride', 'Pienza, Italy', '24.6', '705', 'Group Ride', '', 'http://app.rgtcycling.com/event?code=VScIYf882M', 'Team3R group ride - 3 laps of the Pienza course.']\n['Monday', '21-Nov-20', '', '18:00 pm', '', '', 'Virtuslo.cc Group Ride', 'Donački krog', '57.1', '599', 'Group Ride', '', '', \"Virtuslo.cc's Group Preview Ride on Wednesday Runda course\"]\n['Tuesday', '24-Nov-20', '6:30 pm', '7:30 pm', '1:30 pm', '5:30 am', 'SSR race night at 8Bar Crit', '8Bar Crit', '30.6km', '0', 'Road Race', '', '', '32 laps of 8Bar Crit']\n['Tues', '24-Nov-20', '9:30 am', '10:30 am', '4:30 am', '8:30 pm', 'San Salvador 1', 'San Salvador', '19.4', '574', 'Group Ride', '', 'http://app.rgtcycling.com/event?code=ayefYhxHKf', 'Virtual Velo Vacation']\n['Tues', '24-Nov-20', '7:30 pm', '8:30 pm', '2:30 pm', '6:30 am', 'San Salvador 2', 'San Salvador', '19.4', '574', 'Group Ride', '', 'http://app.rgtcycling.com/event?code=LGzi4l7tkj', 'Virtual Velo Vacation']\n['Wed', '25-Nov-20', '9:30 am', '10:30 am', '4:30 am', '8:30 pm', 'Sa Calobra 1', 'Sa Calobra', '11.1', '649', '', '', 'http://app.rgtcycling.com/event?code=An3wMNosBF', 'Virtual Velo Vacation']\n['Wed', '25-Nov-20', '7:30 pm', '8:30 pm', '2:30 pm', '6:30 am', 'Sa Calobra 2', 'Sa Calobra', '11.1', '649', '', '', 'http://app.rgtcycling.com/event?code=osy0hA4CO6', 'Virtual Velo Vacation']\n['Thu', '26-Nov-20', '9:30 am', '10:30 am', '4:30 am', '8:30 pm', 'North Coast 1', 'Port de Soller to Valldemossa', '27.5', '776', 'Group Ride', '', 'http://app.rgtcycling.com/event?code=s3hLyXenI7', 'Virtual Velo Vacation']\n['Thu', '26-Nov-20', '7:30 pm', '8:30 pm', '2:30 pm', '6:30 am', 'North Coast 2', 'Port de Soller to Valldemossa', '27.5', '776', 'Group Ride', '', 'http://app.rgtcycling.com/event?code=92wEko3N11', 'Virtual Velo Vacation']\n['Fri', '27-Nov-20', '9:30 am', '10:30 am', '4:30 am', '8:30 pm', 'Puig Major 1', 'Puig Major', '26.3', '993', 'Group Ride', '', 'http://app.rgtcycling.com/event?code=K6U4OUd14F', 'Virtual Velo Vacation']\n['Fri', '27-Nov-20', '7:30 pm', '8:30 pm', '2:30 pm', '6:30 am', 'Puig Major 2 ', 'Puig Major', '26.3', '993', 'Group Ride', '', 'http://app.rgtcycling.com/event?code=AWzUX7SaR1', 'Virtual Velo Vacation']\n['Sat', '28-Nov-20', '8:00 am', '9:00 am', '3:00 am', '7:00 pm', 'Coll de Femenia 3', 'Coll de Femenia', '19.6', '525', 'Group Ride', '', 'http://app.rgtcycling.com/event?code=z2dY8IWHox', 'Virtual Velo Vacation']\n['Sat', '28-Nov-20', '10:30 am', '11:30 am', '5:30 am', '9:30 pm', 'San Salvador 3', 'San Salvador', '19.4', '574', 'Group Ride', '', 'http://app.rgtcycling.com/event?code=2Dmvb1REy9', 'Virtual Velo Vacation']\n['Sat', '28-Nov-20', '7:30 pm', '8:30 pm', '2:30 pm', '6:30 am', 'Sa Calobra 3', 'Sa Calobra', '11.1', '649', '', '', 'http://app.rgtcycling.com/event?code=gIAailbe2D', 'Virtual Velo Vacation']\n['Sun', '29-Nov-20', '8:00 am', '9:00 am', '3:00 am', '7:00 pm', '5 Sunday - The road to Imperial century', 'Borrego Springs', '77.0', '-', 'Group Ride', '', 'http://app.rgtcycling.com/event?code=hKHarpgW2p', 'Preparation group ride for the imperial century on 20th of December']\n['Sun', '29-Nov-20', '2:00 pm', '3:00 pm', '9:00 am', '1:00 am', '5 Sunday - The road to Imperial century', 'Borrego Springs', '77.0', '-', 'Group Ride', '', 'http://app.rgtcycling.com/event?code=2yWXGh0CQD', 'Preparation group ride for the imperial century on 20th of December']\n['Sun', '29-Nov-20', '8:00 am', '9:00 am', '3:00 am', '7:00 pm', 'North Coast 3', 'Port de Soller to Valldemossa', '27.5', '776', 'Group Ride', '', 'http://app.rgtcycling.com/event?code=TLcoDgCFrl', 'Virtual Velo Vacation']\n['Sun', '29-Nov-20', '7:30 pm', '8:30 pm', '2:30 pm', '6:30 am', 'Puig Major 3', 'Puig Major', '26.3', '993', 'Group Ride', '', 'http://app.rgtcycling.com/event?code=4Jkbkvs3EI', 'Virtual Velo Vacation']\n['Tuesday', '01-Dec-20', '6:30 pm', '7:30 pm', '1:30 pm', '5:30 am', 'SSR Wave at the goats', 'Magic road : San Juan de Los Terreros', '25.7km ', '185m', 'Road Race', '', '', 'Race to San Juan De Los Terreros ..... Undulating course ']\n['Weds', '02-Dec-20', '7:30 pm', '8:30 pm', '2:30 pm', '6:30 am', 'WESTERLEY VR Race 2.3', 'Musette Cafe Loop (UK)', '16.1', '144', 'Road Race', '16', 'http://app.rgtcycling.com/event?code=b0hOyR1rEV', 'Fast and Furious WESTERLEY VR 16km races - Courses vary']\n['Sun', '06-Dec-20', '8:00 am', '9:00 am', '3:00 am', '7:00 pm', '5 Sunday - The road to Imperial century', 'Borrego Springs', '84.0', '-', 'Group Ride', '', 'http://app.rgtcycling.com/event?code=vVntgLxJPn', 'Preparation group ride for the imperial century on 20th of December']\n['Sun', '06-Dec-20', '2:00 pm', '3:00 pm', '9:00 am', '1:00 am', '5 Sunday - The road to Imperial century', 'Borrego Springs', '84.0', '-', 'Group Ride', '', 'http://app.rgtcycling.com/event?code=s0DQHvcb4V', 'Preparation group ride for the imperial century on 20th of December']\n['Tuesday', '08-Dec-20', '6:30 pm', '7:30 pm', '1:30 pm', '5:30 am', 'SSR at Lydden Hill', 'Magic road : Lydden Hill circuit', '29.4km', '660m', 'Road Race', '', '', 'Lydden Hill circuit ..... including the HILL... modified to ensure it is even between all trainers']\n['Sun', '13-Dec-20', '8:00 am', '9:00 am', '3:00 am', '7:00 pm', '5 Sunday - The road to Imperial century', 'Borrego Springs', '100.0', '-', 'Group Ride', '', 'http://app.rgtcycling.com/event?code=MBVAsBNWVP', 'Preparation group ride for the imperial century on 20th of December & Metric Century']\n['Sun', '13-Dec-20', '2:00 pm', '3:00 pm', '9:00 am', '1:00 am', '5 Sunday - The road to Imperial century', 'Borrego Springs', '100.0', '-', 'Group Ride', '', 'http://app.rgtcycling.com/event?code=Cdcf5fn6GY', 'Preparation group ride for the imperial century on 20th of December & Metric Century']\n['Tuesday', '15-Dec-20', '6:30 pm', '7:30 pm', '1:30 pm', '5:30 am', 'SSR Tuesday Betteshanger', 'Betteshanger Circuit ', '39.7km', '168m', 'Road Race', ' ', ' ', 'SSR Tuesday Race night at the Betteshanger Circuit 12 laps']\n['Weds', '16-Dec-20', '7:30 pm', '8:30 pm', '2:30 pm', '6:30 am', 'WESTERLEY VR Race 2.4', 'TBC', '16.0', 'TBC', 'Road Race', '', 'TBC', 'Fast and Furious WESTERLEY VR 16km races - Courses vary']\n['Sun', '20-Dec-20', '8:00 am', '9:00 am', '3:00 am', '7:00 pm', '5 Sunday - Imperial Century Day', 'Borrego Springs', '162.0', '-', 'Group Ride', '', 'http://app.rgtcycling.com/event?code=7JrHi0ezbQ', 'Imperial Century group ride']\n['Sun', '20-Dec-20', '2:00 pm', '3:00 pm', '9:00 am', '1:00 am', '5 Sunday - Imperial Century Day', 'Borrego Springs', '162.0', '-', 'Group Ride', '', 'http://app.rgtcycling.com/event?code=BKWcYHbvvN', 'Imperial Century group ride']\n['Tuesday', '22-Dec-20', '6:30 pm', '7:30 pm', '1:30 pm', '5:30 am', 'SSR Tuesday Night Race', ' ', ' ', ' ', 'Road Race', ' ', '#VALUE!', ' ']\n['Weds', '30-Dec-20', '7:30 pm', '8:30 pm', '2:30 pm', '6:30 am', 'WESTERLEY VR Race 2.5', 'TBC', '16.0', 'TBC', 'Road Race', '', 'TBC', 'Fast and Furious WESTERLEY VR 16km races - Courses vary']\n['Weds', '06-Jan-21', '7:30 pm', '8:30 pm', '2:30 pm', '6:30 am', 'WESTERLEY VR Race 2.6', 'TBC', '16.0', 'TBC', 'Road Race', '', 'TBC', 'Fast and Furious WESTERLEY VR 16km races - Courses vary']\n['Weds', '20-Jan-21', '7:30 pm', '8:30 pm', '2:30 pm', '6:30 am', 'WESTERLEY VR Race 2.7', 'TBC', '16.0', 'TBC', 'Road Race', '', 'TBC', 'Fast and Furious WESTERLEY VR 16km races - Courses vary']\n['Weds', '03-Feb-21', '7:30 pm', '8:30 pm', '2:30 pm', '6:30 am', 'WESTERLEY VR Race 2.8', 'TBC', '16.0', 'TBC', 'Road Race', '', 'TBC', 'Fast and Furious WESTERLEY VR 16km races - Courses vary']\n['Weds', '17-Feb-21', '7:30 pm', '8:30 pm', '2:30 pm', '6:30 am', 'WESTERLEY VR Race 2.9', 'TBC', '16.0', 'TBC', 'Road Race', '', 'TBC', 'Fast and Furious WESTERLEY VR 16km races - Courses vary']\n['Weds', '03-Mar-21', '7:30 pm', '8:30 pm', '2:30 pm', '6:30 am', 'WESTERLEY VR Race 2.10', 'TBC', '16.0', 'TBC', 'Road Race', '', 'TBC', 'Fast and Furious WESTERLEY VR 16km races - Courses vary']\n['Weds', '17-Mar-21', '7:30 pm', '8:30 pm', '2:30 pm', '6:30 am', 'WESTERLEY VR Race 2.11', 'TBC', '16.0', 'TBC', 'Road Race', '', 'TBC', 'Fast and Furious WESTERLEY VR 16km races - Courses vary']\n['Weds', '31-Mar-21', '7:30 pm', '8:30 pm', '2:30 pm', '6:30 am', 'WESTERLEY VR Race 2.12', 'TBC', '16.0', 'TBC', 'Road Race', '', 'TBC', 'Fast and Furious WESTERLEY VR 16km races - Courses vary']\n['Weds', '18-Nov-20', '5:00 am', '6:00 am', '12:00 am', '4:00 pm', 'Wednesday Fasted Ride - Group Workout', 'Canary Wharf', '45 mins', '-', 'Group Workout', '', 'http://app.rgtcycling.com/event?code=FUQy5RvTqt', 'Fasted endurance ride in Z2']\n['Thursday', '19-Nov-20', '4:45 am', '5:45 am', '11:45 pm', '3:45 pm', 'Thursday Sweet Spot AM - Group Workout', 'Canary Wharf', '76 mins', '-', 'Group Workout', '', 'http://app.rgtcycling.com/event?code=104uKueUoE', 'Sweet spot group workout 4x12mins  in 88-94% FTP']\n['Thursday', '19-Nov-20', '4:00 pm', '5:00 pm', '11:00 am', '3:00 am', 'Thursday Sweet Spot PM - Group Workout', 'Canary Wharf', '76 mins', '-', 'Group Workout', '', 'http://app.rgtcycling.com/event?code=Yw5tUfkT76', 'Sweet spot group workout 4x12mins  in 88-94% FTP']\n"
     ]
    }
   ],
   "source": [
    "from __future__ import print_function\n",
    "import pickle\n",
    "import os.path\n",
    "from googleapiclient.discovery import build\n",
    "from google_auth_oauthlib.flow import InstalledAppFlow\n",
    "from google.auth.transport.requests import Request\n",
    "\n",
    "import socket\n",
    "from apiclient import discovery\n",
    "\n",
    "import time\n",
    "start_time = time.time()\n",
    "\n",
    "socket.setdefaulttimeout(300) # 5 minutes\n",
    "\n",
    "# If modifying these scopes, delete the file token.pickle.\n",
    "SCOPES = ['https://www.googleapis.com/auth/spreadsheets.readonly']\n",
    "\n",
    "# The ID and range of a sample spreadsheet.\n",
    "#SAMPLE_SPREADSHEET_ID = '1BxiMVs0XRA5nFMdKvBdBZjgmUUqptlbs74OgvE2upms'\n",
    "SAMPLE_SPREADSHEET_ID = '1SG5HGFDEl71RQOhdprxiabxa-rJzxn7CM5p1tHR5Sx0'\n",
    "SAMPLE_RANGE_NAME = 'Events!A5:N'\n",
    "\n",
    "creds = None\n",
    "# The file token.pickle stores the user's access and refresh tokens, and is\n",
    "# created automatically when the authorization flow completes for the first\n",
    "# time.\n",
    "if os.path.exists('token.pickle'):\n",
    "    with open('token.pickle', 'rb') as token:\n",
    "        creds = pickle.load(token)\n",
    "# If there are no (valid) credentials available, let the user log in.\n",
    "if not creds or not creds.valid:\n",
    "    if creds and creds.expired and creds.refresh_token:\n",
    "        creds.refresh(Request())\n",
    "    else:\n",
    "        flow = InstalledAppFlow.from_client_secrets_file(\n",
    "            'credentials.json', SCOPES)\n",
    "        creds = flow.run_local_server(port=0)\n",
    "    # Save the credentials for the next run\n",
    "    with open('token.pickle', 'wb') as token:\n",
    "        pickle.dump(creds, token)\n",
    "\n",
    "time_before_build = time.time() - start_time\n",
    "\n",
    "service = build('sheets', 'v4', credentials=creds)\n",
    "\n",
    "time_after_build = time.time() - ( time_before_build + start_time )\n",
    "\n",
    "# Call the Sheets API\n",
    "sheet = service.spreadsheets()\n",
    "result = sheet.values().get(spreadsheetId=SAMPLE_SPREADSHEET_ID,\n",
    "                                    range=SAMPLE_RANGE_NAME).execute()\n",
    "values = result.get('values', [])\n",
    "\n",
    "time_after_API = time.time()  - ( time_before_build + start_time + time_after_build )\n",
    "\n",
    "if not values:\n",
    "    print('No data found.')\n",
    "else:\n",
    "    print('Name, Major:')\n",
    "    for row in values:\n",
    "        # Print columns A and E, which correspond to indices 0 and 4.\n",
    "        #print('%s, %s' % (row[0], row[4]))\n",
    "        print(row)"
   ]
  },
  {
   "cell_type": "code",
   "execution_count": 30,
   "metadata": {},
   "outputs": [
    {
     "output_type": "stream",
     "name": "stdout",
     "text": [
      "Before build: 0.01, for build: 0.64, API: 1.10\n"
     ]
    }
   ],
   "source": [
    "print(f'Before build: {time_before_build:.2f}, for build: {time_after_build:.2f}, API: {time_after_API:.2f}')"
   ]
  },
  {
   "cell_type": "code",
   "execution_count": 31,
   "metadata": {},
   "outputs": [
    {
     "output_type": "execute_result",
     "data": {
      "text/plain": [
       "      Weekday       Date       BST      CET       EST      AEST  \\\n",
       "0        Weds  07-Oct-20   7:30 pm  8:30 pm   2:30 pm   6:30 am   \n",
       "1        Weds  07-Oct-20   8:00 pm  9:00 pm   3:00 pm   7:00 am   \n",
       "2        Weds  08-Oct-20  12:00 am  1:00 am   7:00 pm  11:00 am   \n",
       "3       Thurs  08-Oct-20   5:00 am  6:00 am  12:00 am   2:00 pm   \n",
       "4       Thurs  08-Oct-20   6:30 pm  7:30 pm   1:30 pm   5:30 am   \n",
       "..        ...        ...       ...      ...       ...       ...   \n",
       "123      Weds  17-Mar-21   7:30 pm  8:30 pm   2:30 pm   6:30 am   \n",
       "124      Weds  31-Mar-21   7:30 pm  8:30 pm   2:30 pm   6:30 am   \n",
       "125      Weds  18-Nov-20   5:00 am  6:00 am  12:00 am   4:00 pm   \n",
       "126  Thursday  19-Nov-20   4:45 am  5:45 am  11:45 pm   3:45 pm   \n",
       "127  Thursday  19-Nov-20   4:00 pm  5:00 pm  11:00 am   3:00 am   \n",
       "\n",
       "                                       Name                  Course Distance  \\\n",
       "0                       Westerly VR Race 12      Dibley Doo Dah, UK     16.4   \n",
       "1                         AEST Early Race 6   Landsdowne, Australia     24.3   \n",
       "2                          USA Evening Race    Borrego Springs, USA     23.2   \n",
       "3                  Sweet Spot Group Workout            Canary Wharf   1 hour   \n",
       "4             ZRG THRSDY Crit Series 2 of 7  Civic Centre Crit, USA     37.9   \n",
       "..                                      ...                     ...      ...   \n",
       "123                  WESTERLEY VR Race 2.11                     TBC     16.0   \n",
       "124                  WESTERLEY VR Race 2.12                     TBC     16.0   \n",
       "125   Wednesday Fasted Ride - Group Workout            Canary Wharf  45 mins   \n",
       "126  Thursday Sweet Spot AM - Group Workout            Canary Wharf  76 mins   \n",
       "127  Thursday Sweet Spot PM - Group Workout            Canary Wharf  76 mins   \n",
       "\n",
       "    Elevation            Type Entrants  \\\n",
       "0         109       Road Race       92   \n",
       "1         276  Crit Race (12)       10   \n",
       "2          57   Crit Race (3)       10   \n",
       "3           -    SST Group WO        2   \n",
       "4         440  Crit Race (40)       26   \n",
       "..        ...             ...      ...   \n",
       "123       TBC       Road Race            \n",
       "124       TBC       Road Race            \n",
       "125         -   Group Workout            \n",
       "126         -   Group Workout            \n",
       "127         -   Group Workout            \n",
       "\n",
       "                                              Signup  \\\n",
       "0    http://app.rgtcycling.com/event?code=mC57wZab3s   \n",
       "1    http://app.rgtcycling.com/event?code=OnjsOsIGtz   \n",
       "2    http://app.rgtcycling.com/event?code=7oIv3DvNLN   \n",
       "3    http://app.rgtcycling.com/event?code=8p6k43mWKT   \n",
       "4      http://app.rgtcycling.com/event?code=nWji4fDw   \n",
       "..                                               ...   \n",
       "123                                              TBC   \n",
       "124                                              TBC   \n",
       "125  http://app.rgtcycling.com/event?code=FUQy5RvTqt   \n",
       "126  http://app.rgtcycling.com/event?code=104uKueUoE   \n",
       "127  http://app.rgtcycling.com/event?code=Yw5tUfkT76   \n",
       "\n",
       "                                           Description  \n",
       "0                                                 None  \n",
       "1                                                 None  \n",
       "2                                                 None  \n",
       "3    7x6 minutes Sweeto spot intervals within 88-94...  \n",
       "4                                                 None  \n",
       "..                                                 ...  \n",
       "123  Fast and Furious WESTERLEY VR 16km races - Cou...  \n",
       "124  Fast and Furious WESTERLEY VR 16km races - Cou...  \n",
       "125                        Fasted endurance ride in Z2  \n",
       "126   Sweet spot group workout 4x12mins  in 88-94% FTP  \n",
       "127   Sweet spot group workout 4x12mins  in 88-94% FTP  \n",
       "\n",
       "[128 rows x 14 columns]"
      ],
      "text/html": "<div>\n<style scoped>\n    .dataframe tbody tr th:only-of-type {\n        vertical-align: middle;\n    }\n\n    .dataframe tbody tr th {\n        vertical-align: top;\n    }\n\n    .dataframe thead th {\n        text-align: right;\n    }\n</style>\n<table border=\"1\" class=\"dataframe\">\n  <thead>\n    <tr style=\"text-align: right;\">\n      <th></th>\n      <th>Weekday</th>\n      <th>Date</th>\n      <th>BST</th>\n      <th>CET</th>\n      <th>EST</th>\n      <th>AEST</th>\n      <th>Name</th>\n      <th>Course</th>\n      <th>Distance</th>\n      <th>Elevation</th>\n      <th>Type</th>\n      <th>Entrants</th>\n      <th>Signup</th>\n      <th>Description</th>\n    </tr>\n  </thead>\n  <tbody>\n    <tr>\n      <th>0</th>\n      <td>Weds</td>\n      <td>07-Oct-20</td>\n      <td>7:30 pm</td>\n      <td>8:30 pm</td>\n      <td>2:30 pm</td>\n      <td>6:30 am</td>\n      <td>Westerly VR Race 12</td>\n      <td>Dibley Doo Dah, UK</td>\n      <td>16.4</td>\n      <td>109</td>\n      <td>Road Race</td>\n      <td>92</td>\n      <td>http://app.rgtcycling.com/event?code=mC57wZab3s</td>\n      <td>None</td>\n    </tr>\n    <tr>\n      <th>1</th>\n      <td>Weds</td>\n      <td>07-Oct-20</td>\n      <td>8:00 pm</td>\n      <td>9:00 pm</td>\n      <td>3:00 pm</td>\n      <td>7:00 am</td>\n      <td>AEST Early Race 6</td>\n      <td>Landsdowne, Australia</td>\n      <td>24.3</td>\n      <td>276</td>\n      <td>Crit Race (12)</td>\n      <td>10</td>\n      <td>http://app.rgtcycling.com/event?code=OnjsOsIGtz</td>\n      <td>None</td>\n    </tr>\n    <tr>\n      <th>2</th>\n      <td>Weds</td>\n      <td>08-Oct-20</td>\n      <td>12:00 am</td>\n      <td>1:00 am</td>\n      <td>7:00 pm</td>\n      <td>11:00 am</td>\n      <td>USA Evening Race</td>\n      <td>Borrego Springs, USA</td>\n      <td>23.2</td>\n      <td>57</td>\n      <td>Crit Race (3)</td>\n      <td>10</td>\n      <td>http://app.rgtcycling.com/event?code=7oIv3DvNLN</td>\n      <td>None</td>\n    </tr>\n    <tr>\n      <th>3</th>\n      <td>Thurs</td>\n      <td>08-Oct-20</td>\n      <td>5:00 am</td>\n      <td>6:00 am</td>\n      <td>12:00 am</td>\n      <td>2:00 pm</td>\n      <td>Sweet Spot Group Workout</td>\n      <td>Canary Wharf</td>\n      <td>1 hour</td>\n      <td>-</td>\n      <td>SST Group WO</td>\n      <td>2</td>\n      <td>http://app.rgtcycling.com/event?code=8p6k43mWKT</td>\n      <td>7x6 minutes Sweeto spot intervals within 88-94...</td>\n    </tr>\n    <tr>\n      <th>4</th>\n      <td>Thurs</td>\n      <td>08-Oct-20</td>\n      <td>6:30 pm</td>\n      <td>7:30 pm</td>\n      <td>1:30 pm</td>\n      <td>5:30 am</td>\n      <td>ZRG THRSDY Crit Series 2 of 7</td>\n      <td>Civic Centre Crit, USA</td>\n      <td>37.9</td>\n      <td>440</td>\n      <td>Crit Race (40)</td>\n      <td>26</td>\n      <td>http://app.rgtcycling.com/event?code=nWji4fDw</td>\n      <td>None</td>\n    </tr>\n    <tr>\n      <th>...</th>\n      <td>...</td>\n      <td>...</td>\n      <td>...</td>\n      <td>...</td>\n      <td>...</td>\n      <td>...</td>\n      <td>...</td>\n      <td>...</td>\n      <td>...</td>\n      <td>...</td>\n      <td>...</td>\n      <td>...</td>\n      <td>...</td>\n      <td>...</td>\n    </tr>\n    <tr>\n      <th>123</th>\n      <td>Weds</td>\n      <td>17-Mar-21</td>\n      <td>7:30 pm</td>\n      <td>8:30 pm</td>\n      <td>2:30 pm</td>\n      <td>6:30 am</td>\n      <td>WESTERLEY VR Race 2.11</td>\n      <td>TBC</td>\n      <td>16.0</td>\n      <td>TBC</td>\n      <td>Road Race</td>\n      <td></td>\n      <td>TBC</td>\n      <td>Fast and Furious WESTERLEY VR 16km races - Cou...</td>\n    </tr>\n    <tr>\n      <th>124</th>\n      <td>Weds</td>\n      <td>31-Mar-21</td>\n      <td>7:30 pm</td>\n      <td>8:30 pm</td>\n      <td>2:30 pm</td>\n      <td>6:30 am</td>\n      <td>WESTERLEY VR Race 2.12</td>\n      <td>TBC</td>\n      <td>16.0</td>\n      <td>TBC</td>\n      <td>Road Race</td>\n      <td></td>\n      <td>TBC</td>\n      <td>Fast and Furious WESTERLEY VR 16km races - Cou...</td>\n    </tr>\n    <tr>\n      <th>125</th>\n      <td>Weds</td>\n      <td>18-Nov-20</td>\n      <td>5:00 am</td>\n      <td>6:00 am</td>\n      <td>12:00 am</td>\n      <td>4:00 pm</td>\n      <td>Wednesday Fasted Ride - Group Workout</td>\n      <td>Canary Wharf</td>\n      <td>45 mins</td>\n      <td>-</td>\n      <td>Group Workout</td>\n      <td></td>\n      <td>http://app.rgtcycling.com/event?code=FUQy5RvTqt</td>\n      <td>Fasted endurance ride in Z2</td>\n    </tr>\n    <tr>\n      <th>126</th>\n      <td>Thursday</td>\n      <td>19-Nov-20</td>\n      <td>4:45 am</td>\n      <td>5:45 am</td>\n      <td>11:45 pm</td>\n      <td>3:45 pm</td>\n      <td>Thursday Sweet Spot AM - Group Workout</td>\n      <td>Canary Wharf</td>\n      <td>76 mins</td>\n      <td>-</td>\n      <td>Group Workout</td>\n      <td></td>\n      <td>http://app.rgtcycling.com/event?code=104uKueUoE</td>\n      <td>Sweet spot group workout 4x12mins  in 88-94% FTP</td>\n    </tr>\n    <tr>\n      <th>127</th>\n      <td>Thursday</td>\n      <td>19-Nov-20</td>\n      <td>4:00 pm</td>\n      <td>5:00 pm</td>\n      <td>11:00 am</td>\n      <td>3:00 am</td>\n      <td>Thursday Sweet Spot PM - Group Workout</td>\n      <td>Canary Wharf</td>\n      <td>76 mins</td>\n      <td>-</td>\n      <td>Group Workout</td>\n      <td></td>\n      <td>http://app.rgtcycling.com/event?code=Yw5tUfkT76</td>\n      <td>Sweet spot group workout 4x12mins  in 88-94% FTP</td>\n    </tr>\n  </tbody>\n</table>\n<p>128 rows × 14 columns</p>\n</div>"
     },
     "metadata": {},
     "execution_count": 31
    }
   ],
   "source": [
    "import pandas as pd \n",
    "import requests\n",
    "import math\n",
    "import datetime \n",
    "\n",
    "df = pd.DataFrame(values[1:], columns=['Weekday', 'Date', 'BST', 'CET', 'EST', 'AEST', 'Name', 'Course', 'Distance', 'Elevation', 'Type', 'Entrants', 'Signup', 'Description'])\n",
    "df"
   ]
  },
  {
   "cell_type": "code",
   "execution_count": 32,
   "metadata": {},
   "outputs": [
    {
     "output_type": "stream",
     "name": "stdout",
     "text": [
      "3.8.3\n"
     ]
    }
   ],
   "source": [
    "import platform\n",
    "print(platform.python_version())"
   ]
  },
  {
   "cell_type": "code",
   "execution_count": null,
   "metadata": {},
   "outputs": [],
   "source": []
  }
 ]
}