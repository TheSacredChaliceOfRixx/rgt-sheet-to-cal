{
 "metadata": {
  "language_info": {
   "codemirror_mode": {
    "name": "ipython",
    "version": 3
   },
   "file_extension": ".py",
   "mimetype": "text/x-python",
   "name": "python",
   "nbconvert_exporter": "python",
   "pygments_lexer": "ipython3",
   "version": "3.8.3-final"
  },
  "orig_nbformat": 2,
  "kernelspec": {
   "name": "python3",
   "display_name": "Python 3",
   "language": "python"
  }
 },
 "nbformat": 4,
 "nbformat_minor": 2,
 "cells": [
  {
   "source": [
    "# Get RGTDB Entries for One User\n",
    "\n",
    "https://rgtdb.com/user/72763"
   ],
   "cell_type": "markdown",
   "metadata": {}
  },
  {
   "cell_type": "code",
   "execution_count": 178,
   "metadata": {},
   "outputs": [],
   "source": [
    "import pandas as pd\n",
    "from datetime import datetime as dt\n",
    "import datetime\n",
    "\n",
    "dfs = pd.read_html('https://rgtdb.com/user/72763')\n",
    "df = dfs[1]"
   ]
  },
  {
   "source": [
    "## Convert date to datetime, attempt to guess the year\n",
    "\n",
    "This is going to have troubles around New Year"
   ],
   "cell_type": "markdown",
   "metadata": {}
  },
  {
   "cell_type": "code",
   "execution_count": 179,
   "metadata": {
    "tags": []
   },
   "outputs": [
    {
     "output_type": "stream",
     "name": "stdout",
     "text": [
      "2020-12\n"
     ]
    },
    {
     "output_type": "execute_result",
     "data": {
      "text/plain": [
       "                            Date                       Name\n",
       "Year_Date                                                  \n",
       "2021-02-28 09:00:00  02-28 09:00        GFNS JENSIE E-FONDO\n",
       "2021-02-21 15:00:00  02-21 15:00    Lou's Sunday Group Ride\n",
       "2021-02-21 14:00:00  02-21 14:00         MRETT13 Lou's Team\n",
       "2021-02-21 09:00:00  02-21 09:00        GFNS GOLDEN E-FONDO\n",
       "2021-02-20 15:00:00  02-20 15:00  Lou's Saturday Group Ride\n",
       "...                          ...                        ...\n",
       "2020-11-19 04:45:00  11-19 04:45     Thursday Sweet Spot AM\n",
       "2020-10-25 12:30:00  10-25 12:30          L’ENFER EN FRANCE\n",
       "2020-10-24 15:00:00  10-24 15:00      Flemish For Beginners\n",
       "2020-10-11 11:30:00  10-11 11:30    The Amstell Racing Race\n",
       "2020-08-29 11:30:00  08-29 11:30   Vive La France - Stage 1\n",
       "\n",
       "[88 rows x 2 columns]"
      ],
      "text/html": "<div>\n<style scoped>\n    .dataframe tbody tr th:only-of-type {\n        vertical-align: middle;\n    }\n\n    .dataframe tbody tr th {\n        vertical-align: top;\n    }\n\n    .dataframe thead th {\n        text-align: right;\n    }\n</style>\n<table border=\"1\" class=\"dataframe\">\n  <thead>\n    <tr style=\"text-align: right;\">\n      <th></th>\n      <th>Date</th>\n      <th>Name</th>\n    </tr>\n    <tr>\n      <th>Year_Date</th>\n      <th></th>\n      <th></th>\n    </tr>\n  </thead>\n  <tbody>\n    <tr>\n      <th>2021-02-28 09:00:00</th>\n      <td>02-28 09:00</td>\n      <td>GFNS JENSIE E-FONDO</td>\n    </tr>\n    <tr>\n      <th>2021-02-21 15:00:00</th>\n      <td>02-21 15:00</td>\n      <td>Lou's Sunday Group Ride</td>\n    </tr>\n    <tr>\n      <th>2021-02-21 14:00:00</th>\n      <td>02-21 14:00</td>\n      <td>MRETT13 Lou's Team</td>\n    </tr>\n    <tr>\n      <th>2021-02-21 09:00:00</th>\n      <td>02-21 09:00</td>\n      <td>GFNS GOLDEN E-FONDO</td>\n    </tr>\n    <tr>\n      <th>2021-02-20 15:00:00</th>\n      <td>02-20 15:00</td>\n      <td>Lou's Saturday Group Ride</td>\n    </tr>\n    <tr>\n      <th>...</th>\n      <td>...</td>\n      <td>...</td>\n    </tr>\n    <tr>\n      <th>2020-11-19 04:45:00</th>\n      <td>11-19 04:45</td>\n      <td>Thursday Sweet Spot AM</td>\n    </tr>\n    <tr>\n      <th>2020-10-25 12:30:00</th>\n      <td>10-25 12:30</td>\n      <td>L’ENFER EN FRANCE</td>\n    </tr>\n    <tr>\n      <th>2020-10-24 15:00:00</th>\n      <td>10-24 15:00</td>\n      <td>Flemish For Beginners</td>\n    </tr>\n    <tr>\n      <th>2020-10-11 11:30:00</th>\n      <td>10-11 11:30</td>\n      <td>The Amstell Racing Race</td>\n    </tr>\n    <tr>\n      <th>2020-08-29 11:30:00</th>\n      <td>08-29 11:30</td>\n      <td>Vive La France - Stage 1</td>\n    </tr>\n  </tbody>\n</table>\n<p>88 rows × 2 columns</p>\n</div>"
     },
     "metadata": {},
     "execution_count": 179
    }
   ],
   "source": [
    "event_year = str(dt.today().year)\n",
    "year_subtract = 0\n",
    "last_month = 13\n",
    "\n",
    "for index, row in df.iterrows():\n",
    "    event_month = int(row['Date'][:2])\n",
    "\n",
    "    if event_month > last_month:\n",
    "        year_subtract += 1\n",
    "        event_year = str(dt.today().year - year_subtract)\n",
    "        print(event_year + '-' + str(event_month))\n",
    "\n",
    "    #print(event_year + '-' + row['Date'])\n",
    "\n",
    "    df.loc[index, 'Year_Date'] = event_year + '-' + row['Date']\n",
    "\n",
    "    last_month = event_month\n",
    "    \n",
    "df['Year_Date'] = pd.to_datetime(df['Year_Date'])\n",
    "df.set_index('Year_Date', inplace=True)\n",
    "df"
   ]
  },
  {
   "source": [
    "## Personal Calendar for Signups\n",
    "\n",
    "g2oh32rptulp8f17e3bdiq9iec@group.calendar.google.com"
   ],
   "cell_type": "markdown",
   "metadata": {}
  },
  {
   "cell_type": "code",
   "execution_count": 180,
   "metadata": {},
   "outputs": [],
   "source": [
    "from gcsa.event import Event as gcEvent\n",
    "from gcsa.google_calendar import GoogleCalendar\n",
    "\n",
    "import socket\n",
    "socket.setdefaulttimeout(300) # 5 minutes\n",
    "\n",
    "EMAIL_FOR_CAL = 'g2oh32rptulp8f17e3bdiq9iec@group.calendar.google.com'\n",
    "\n",
    "calendar = GoogleCalendar(EMAIL_FOR_CAL)\n"
   ]
  },
  {
   "cell_type": "code",
   "execution_count": 181,
   "metadata": {},
   "outputs": [
    {
     "output_type": "execute_result",
     "data": {
      "text/plain": [
       "Timestamp('2021-02-28 09:00:00')"
      ]
     },
     "metadata": {},
     "execution_count": 181
    }
   ],
   "source": [
    "df.index.max() \n"
   ]
  },
  {
   "source": [
    "## Read Events in Calendar which Are Within Timeframe of RGDB Data\n",
    "\n",
    "Add one day to timeframe to compensate for unpredictable time zone handling.\n",
    "\n",
    "Note IDs of existing events so we don't re-create them."
   ],
   "cell_type": "markdown",
   "metadata": {}
  },
  {
   "cell_type": "code",
   "execution_count": 182,
   "metadata": {},
   "outputs": [
    {
     "output_type": "stream",
     "name": "stdout",
     "text": [
      "found  2021-02-18 08:00:00+01:00 - Thursday under/overs UTC v3smr5ptv43kln460d8hl3lnu0\n",
      "found  2021-02-17 06:00:00+01:00 - The Recovery Ride UTC e67fqdd5v9he3ufbsm66cken6s\n",
      "found  2021-02-16 08:00:00+01:00 - Tuesday SS training UTC 4u2h376ijcko6kq7cqf55mm1bk\n",
      "found  2021-02-14 16:00:00+01:00 - Lou's Sunday Group Ride UTC 2o41cs42lum3otkhogki59174k\n",
      "found  2021-02-14 15:00:00+01:00 - MRETT12 Lou's Team UTC 3a4m18l8ormk5jf55nkvmj500o\n",
      "found  2021-02-14 10:00:00+01:00 - GFNS HIGHLANDS E-FONDO UTC b71bff7rlakbpcj39a8fiaor6g\n",
      "found  2021-02-13 16:00:00+01:00 - Lou's Saturday Group Ride UTC t3sf7719reugfrapovo8v1ed5c\n",
      "found  2021-02-12 16:00:00+01:00 - Race to the Light House UTC 31ifkf67rec5e4p7tchik4omek\n",
      "found  2021-02-11 08:00:00+01:00 - Thursday SST UTC hss4cil1fnvqijjdeoicb5phns\n",
      "found  2021-02-10 08:00:00+01:00 - Breakfast Club UTC 20uvrehtik82pn449pidq6ii34\n",
      "found  2021-02-09 16:00:00+01:00 - Gran Premio Pienza UTC oagd077g6ip32htaoru8aeipoo\n",
      "found  2021-02-09 16:00:00+01:00 - Chat Laps UTC rgsjo41nhckhvtl7b9phtkrg14\n",
      "found  2021-02-09 08:00:00+01:00 - Tuesday SST UTC qj0ppmlc90rss4oia7nlvpjqrs\n",
      "found  2021-02-07 16:00:00+01:00 - Lou's Sunday Group Ride UTC cuo7fiiju8itdupfirf1rc34v0\n",
      "found  2021-02-07 15:15:00+01:00 - Lou's Team MRETT11 UTC f8t0e6if057jlnvh05th3cjnlg\n",
      "found  2021-02-07 10:00:00+01:00 - GFNS E-Fondo Florida UTC 4pq1jmqjdhr3damnfgsu8i3bco\n",
      "found  2021-02-07 10:00:00+01:00 - Herd Sunday 2 Pace Ride UTC 5qdf9iouvu5km66m1lpt9r3qk8\n",
      "found  2021-02-06 17:00:00+01:00 - LOBSTER BITE RACE UTC bfnnmsod16mfunm0obhsksqits\n",
      "found  2021-02-06 16:00:00+01:00 - Lou's Saturday Group Ride UTC dui65uhm979ld4u8r7qj5bnnvo\n",
      "found  2021-02-06 10:30:00+01:00 - Edinburgh Lockdown Loop 1 UTC ekiq5i457dait3vdnb7g4hlseo\n",
      "found  2021-02-06 10:30:00+01:00 - APPLECROSS - ENDURANCE RR UTC 7cdp1a31vbqqe8rv282473dce0\n",
      "found  2021-02-05 16:00:00+01:00 - Chat Laps UTC sgd8cfdvolibuoihem0fs62520\n",
      "found  2021-02-04 17:00:00+01:00 - Pedal2Empower group ride UTC fgc02pe689iv890pusr43c87h0\n",
      "found  2021-02-03 16:00:00+01:00 - Chat Laps UTC 9jkb9bt61amqgfhpf1bnt6o2u8\n",
      "found  2021-02-03 08:00:00+01:00 - Breakfast Club UTC 0hjvruhi9uo4p5rblnh50j41c4\n",
      "found  2021-02-02 16:00:00+01:00 - Chat Laps UTC cnjmeo4k11stdhcjtk66uf4h20\n",
      "found  2021-02-01 08:00:00+01:00 - Breakfast Club UTC jpd5k47forgv5oc92t9t3esl0g\n",
      "found  2021-01-31 16:00:00+01:00 - Lou's Sunday Group Ride UTC 479sfnjef37tapirrouv3gmb5k\n",
      "found  2021-01-31 10:00:00+01:00 - Herd 2 Pace Sunday Ride UTC 3p9pue7np8hp1lbvqd8ptiiocc\n",
      "found  2021-01-30 16:00:00+01:00 - Lou's Saturday Group Ride UTC reqj53knrqvc0cmnbsobshhi5k\n",
      "found  2021-01-30 10:30:00+01:00 - Newcastle Lockdown Loop 1 UTC 6es8tl3mvo5gvnacan7q7j201c\n",
      "found  2021-01-24 16:00:00+01:00 - Lou's Sunday Group Ride UTC vpq430bpsumfgedmnls416rpm4\n",
      "found  2021-01-24 12:00:00+01:00 - WKG's Watts Occurring UTC i66kbd6msrp41uomafpl2qp7p8\n",
      "found  2021-01-24 11:00:00+01:00 - The Fleche Waltonne UTC m64me7u6ckd37mesb97ekk9rpg\n",
      "found  2021-01-24 10:00:00+01:00 - Herd Sunday 2 Pace Ride UTC oqpjeghqfkkg8jkki0he34skic\n",
      "found  2021-01-23 16:00:00+01:00 - Lou's Saturday Group Ride UTC vtjcsrsfeshmb43vore38q8kbk\n",
      "found  2021-01-23 10:00:00+01:00 - Reiver social ride out UTC g0laneg0djs9m8jh5jfetp4pdk\n",
      "found  2021-01-17 13:30:00+01:00 - TDM_STAGE12_3 UTC 4fl6mj4gipddnf3unb73ceggas\n",
      "found  2021-01-17 07:30:00+01:00 - TDM_STAGE12_2 UTC gas42f7otb11ab479f3p177fuo\n",
      "found  2021-01-16 13:30:00+01:00 - TDM 11 Lou’s Team UTC fqhc1isdatvc5p2dla2f5vifu4\n",
      "found  2021-01-14 07:30:00+01:00 - TDM_STAGE10_2 UTC n31212jog660rtl9rg6hdn9tno\n",
      "found  2021-01-13 07:30:00+01:00 - TDM_STAGE9_2 UTC 51c0fkleh8mbjfdrabd1gtdu84\n",
      "found  2021-01-12 07:30:00+01:00 - TDM_STAGE8_2 UTC 1bk7n3mg8lfisb9evgtk35ehjk\n",
      "found  2021-01-10 07:30:00+01:00 - TDM_STAGE7_2 UTC 9pmq967b9fjf993cl1ing476mg\n",
      "found  2021-01-09 07:30:00+01:00 - TDM_STAGE6_2 UTC muimpi1s102g8jtulaa44hid48\n",
      "found  2021-01-08 13:00:00+01:00 - TDM rest day ride. UTC kjakprtqi1s1d15l9j86gc8a48\n",
      "found  2021-01-07 13:30:00+01:00 - TDM_STAGE5_3 UTC 3icp998pi182q0dvjov960ahp4\n",
      "found  2021-01-06 13:30:00+01:00 - TDM_STAGE4_3 UTC 35bnq53mk1sqm5ur52618qbajk\n",
      "found  2021-01-05 13:30:00+01:00 - TDM_STAGE3_3 UTC k473j7a7l120o65rpuasdk8h20\n",
      "found  2021-01-03 13:30:00+01:00 - TDM_STAGE2_3 UTC vsoesblb89mu6d2uh3aee7rbuc\n",
      "found  2021-01-03 07:30:00+01:00 - TDM_STAGE2_2 UTC i7gp3jfpn7cacgsmh51sf25rrs\n",
      "found  2021-01-02 16:00:00+01:00 - Lou's Saturday Group Ride UTC d14888cf0km4m4s55hbuuobnlk\n",
      "found  2021-01-02 13:30:00+01:00 - TdM_Stage1_3 UTC 2cbifc6nffmqsu343tj60lonhc\n",
      "found  2020-12-31 16:00:00+01:00 - Lou's New Years Eve Ride UTC 31e6f7847478irqpmo9suidrus\n",
      "found  2020-12-31 12:00:00+01:00 - STD Recovery-Ride UTC l1fhoapshdi0522t7lophoea5c\n",
      "found  2020-12-30 09:30:00+01:00 - PRT Tempo 2Hrs UTC gslvgn33d1t2p1vktn27picvhk\n",
      "found  2020-12-29 16:00:00+01:00 - Lou's Drafting Clinic UTC mukt0uv2ealmgur457evsrlbr0\n",
      "found  2020-12-29 12:00:00+01:00 - Festive 500: three rivers UTC 5vehsr83r59duc5doi0bvvavbg\n",
      "found  2020-12-28 13:00:00+01:00 - Festive 500: lowlands UTC 296alg7qq3h83qpsav7bj01ff8\n",
      "found  2020-12-27 12:00:00+01:00 - Festive 500: quarantine UTC oolnahfk0n38gc7dv5dm7eb17k\n",
      "found  2020-12-25 17:01:00+01:00 - Virtuslo NYT | stage 1(B) UTC v0h4qvh24so3vaffhc75ifufpg\n",
      "found  2020-12-25 13:30:00+01:00 - Festive 500: the river UTC 6005m7je84butpg7ornfcc9bio\n",
      "found  2020-12-24 13:30:00+01:00 - Festive 500 opening lap UTC sk8nd7pv9tei8pgell6jo2fo20\n",
      "found  2020-12-24 12:00:00+01:00 - STD Group-Ride <2.6w/kg UTC hssfjabs8kcci8vfspm2arfc50\n",
      "found  2020-12-23 18:00:00+01:00 - Probike Groupride UTC 78m1urut97rpjq4ojcmeluibfg\n",
      "found  2020-12-22 12:00:00+01:00 - Eat DIRT on RGT UTC 8mi25heu82lbtq38kgto608dpg\n",
      "found  2020-12-20 16:00:00+01:00 - Lou’s Sunday Group Ride UTC 9lffuevam8p3oni720btdegaq8\n",
      "found  2020-12-20 11:00:00+01:00 - Swynnerton GP Classic UTC lb07p4o1v1gu7s2dksc1ra086o\n",
      "found  2020-12-20 09:00:00+01:00 - Imperial Century 100mi! UTC s0itdgescr0l0ogv3p45f0f2g0\n",
      "found  2020-12-19 16:00:00+01:00 - Lou’s Saturday Group Ride UTC 15kio29a49u2eo0h3527h972qk\n",
      "found  2020-12-19 14:30:00+01:00 - Red Bull Bay Climb 2 UTC udvgajhmhp5k6sh0bmq0qld36k\n",
      "found  2020-12-12 10:30:00+01:00 - Escape To Alcatraz 1 UTC k3fti9qgn7td75o5k383097sa0\n",
      "found  2020-12-09 18:00:00+01:00 - Probike Academy Ride UTC b4svjdu52b3ek6h66kdpc2eibs\n",
      "found  2020-11-22 09:00:00+01:00 - Imperial Century 40mi UTC 2igobs85vq436m2h2nrjebbf9o\n",
      "found  2020-11-19 17:00:00+01:00 - Thursday Sweet Spot PM UTC dhrildkm46gnbrnnoh7u2q0bt0\n",
      "found  2020-11-19 05:45:00+01:00 - Thursday Sweet Spot AM UTC 3mduq5jttt435p8prt2lifl148\n",
      "found  2020-10-25 13:30:00+01:00 - L’ENFER EN FRANCE UTC vjm85gl7mj4uk14pua7uooefls\n",
      "found  2020-10-24 17:00:00+02:00 - Flemish For Beginners UTC mj7c5ohbsvjf86j3gvq7gokauk\n",
      "found  2020-10-11 13:30:00+02:00 - The Amstell Racing Race UTC g9ppg505frhf6ljjcovkvu549c\n",
      "found  2020-08-29 13:30:00+02:00 - Vive La France - Stage 1 UTC dthlbhihmfhg1vfq6lpe8jl4go\n",
      "found  2021-02-28 10:00:00+01:00 - GFNS JENSIE E-FONDO UTC 2qjhkp9cr1h1nn8e2d6j7ulf4k\n",
      "found  2021-02-21 10:00:00+01:00 - GFNS GOLDEN E-FONDO UTC lef49el7mvujdbtk51l2qgb0mo\n",
      "found  2021-02-19 16:00:00+01:00 - Lou's Fri Drafting Clinic UTC ro155pdtidkqnn551qbi113jl0\n",
      "found  2021-02-18 16:00:00+01:00 - Lou's Thurs Draft Clinic UTC ocb3s9h9pdbaoaqmvora0l3a6s\n",
      "found  2021-02-16 16:00:00+01:00 - Lous Tues drafting clinic UTC 140pkigsrcuifvoh84hvls3ec4\n"
     ]
    }
   ],
   "source": [
    "df['cal_id'] = None\n",
    "df['event_obj'] = None\n",
    "\n",
    "for event in calendar.get_events(time_min=df.index.min() - datetime.timedelta(days=1), time_max=df.index.max() + datetime.timedelta(days=1), timezone='UTC'):\n",
    "    if event.start in df.loc[df['Name'] == event.summary].index:\n",
    "        df.at[event.start, 'cal_id'] = event.event_id\n",
    "        df.at[event.start, 'event_obj'] = event\n",
    "        print('found ', event, event.timezone, event.event_id)\n",
    "\n"
   ]
  },
  {
   "cell_type": "code",
   "execution_count": 183,
   "metadata": {},
   "outputs": [
    {
     "output_type": "execute_result",
     "data": {
      "text/plain": [
       "                            Date                       Name  \\\n",
       "Year_Date                                                     \n",
       "2021-02-28 09:00:00  02-28 09:00        GFNS JENSIE E-FONDO   \n",
       "2021-02-21 15:00:00  02-21 15:00    Lou's Sunday Group Ride   \n",
       "2021-02-21 14:00:00  02-21 14:00         MRETT13 Lou's Team   \n",
       "2021-02-21 09:00:00  02-21 09:00        GFNS GOLDEN E-FONDO   \n",
       "2021-02-20 15:00:00  02-20 15:00  Lou's Saturday Group Ride   \n",
       "...                          ...                        ...   \n",
       "2020-11-19 04:45:00  11-19 04:45     Thursday Sweet Spot AM   \n",
       "2020-10-25 12:30:00  10-25 12:30          L’ENFER EN FRANCE   \n",
       "2020-10-24 15:00:00  10-24 15:00      Flemish For Beginners   \n",
       "2020-10-11 11:30:00  10-11 11:30    The Amstell Racing Race   \n",
       "2020-08-29 11:30:00  08-29 11:30   Vive La France - Stage 1   \n",
       "\n",
       "                                         cal_id  \\\n",
       "Year_Date                                         \n",
       "2021-02-28 09:00:00  2qjhkp9cr1h1nn8e2d6j7ulf4k   \n",
       "2021-02-21 15:00:00                        None   \n",
       "2021-02-21 14:00:00                        None   \n",
       "2021-02-21 09:00:00  lef49el7mvujdbtk51l2qgb0mo   \n",
       "2021-02-20 15:00:00                        None   \n",
       "...                                         ...   \n",
       "2020-11-19 04:45:00  3mduq5jttt435p8prt2lifl148   \n",
       "2020-10-25 12:30:00  vjm85gl7mj4uk14pua7uooefls   \n",
       "2020-10-24 15:00:00  mj7c5ohbsvjf86j3gvq7gokauk   \n",
       "2020-10-11 11:30:00  g9ppg505frhf6ljjcovkvu549c   \n",
       "2020-08-29 11:30:00  dthlbhihmfhg1vfq6lpe8jl4go   \n",
       "\n",
       "                                                             event_obj  \n",
       "Year_Date                                                               \n",
       "2021-02-28 09:00:00    2021-02-28 10:00:00+01:00 - GFNS JENSIE E-FONDO  \n",
       "2021-02-21 15:00:00                                               None  \n",
       "2021-02-21 14:00:00                                               None  \n",
       "2021-02-21 09:00:00    2021-02-21 10:00:00+01:00 - GFNS GOLDEN E-FONDO  \n",
       "2021-02-20 15:00:00                                               None  \n",
       "...                                                                ...  \n",
       "2020-11-19 04:45:00  2020-11-19 05:45:00+01:00 - Thursday Sweet Spo...  \n",
       "2020-10-25 12:30:00      2020-10-25 13:30:00+01:00 - L’ENFER EN FRANCE  \n",
       "2020-10-24 15:00:00  2020-10-24 17:00:00+02:00 - Flemish For Beginners  \n",
       "2020-10-11 11:30:00  2020-10-11 13:30:00+02:00 - The Amstell Racing...  \n",
       "2020-08-29 11:30:00  2020-08-29 13:30:00+02:00 - Vive La France - S...  \n",
       "\n",
       "[88 rows x 4 columns]"
      ],
      "text/html": "<div>\n<style scoped>\n    .dataframe tbody tr th:only-of-type {\n        vertical-align: middle;\n    }\n\n    .dataframe tbody tr th {\n        vertical-align: top;\n    }\n\n    .dataframe thead th {\n        text-align: right;\n    }\n</style>\n<table border=\"1\" class=\"dataframe\">\n  <thead>\n    <tr style=\"text-align: right;\">\n      <th></th>\n      <th>Date</th>\n      <th>Name</th>\n      <th>cal_id</th>\n      <th>event_obj</th>\n    </tr>\n    <tr>\n      <th>Year_Date</th>\n      <th></th>\n      <th></th>\n      <th></th>\n      <th></th>\n    </tr>\n  </thead>\n  <tbody>\n    <tr>\n      <th>2021-02-28 09:00:00</th>\n      <td>02-28 09:00</td>\n      <td>GFNS JENSIE E-FONDO</td>\n      <td>2qjhkp9cr1h1nn8e2d6j7ulf4k</td>\n      <td>2021-02-28 10:00:00+01:00 - GFNS JENSIE E-FONDO</td>\n    </tr>\n    <tr>\n      <th>2021-02-21 15:00:00</th>\n      <td>02-21 15:00</td>\n      <td>Lou's Sunday Group Ride</td>\n      <td>None</td>\n      <td>None</td>\n    </tr>\n    <tr>\n      <th>2021-02-21 14:00:00</th>\n      <td>02-21 14:00</td>\n      <td>MRETT13 Lou's Team</td>\n      <td>None</td>\n      <td>None</td>\n    </tr>\n    <tr>\n      <th>2021-02-21 09:00:00</th>\n      <td>02-21 09:00</td>\n      <td>GFNS GOLDEN E-FONDO</td>\n      <td>lef49el7mvujdbtk51l2qgb0mo</td>\n      <td>2021-02-21 10:00:00+01:00 - GFNS GOLDEN E-FONDO</td>\n    </tr>\n    <tr>\n      <th>2021-02-20 15:00:00</th>\n      <td>02-20 15:00</td>\n      <td>Lou's Saturday Group Ride</td>\n      <td>None</td>\n      <td>None</td>\n    </tr>\n    <tr>\n      <th>...</th>\n      <td>...</td>\n      <td>...</td>\n      <td>...</td>\n      <td>...</td>\n    </tr>\n    <tr>\n      <th>2020-11-19 04:45:00</th>\n      <td>11-19 04:45</td>\n      <td>Thursday Sweet Spot AM</td>\n      <td>3mduq5jttt435p8prt2lifl148</td>\n      <td>2020-11-19 05:45:00+01:00 - Thursday Sweet Spo...</td>\n    </tr>\n    <tr>\n      <th>2020-10-25 12:30:00</th>\n      <td>10-25 12:30</td>\n      <td>L’ENFER EN FRANCE</td>\n      <td>vjm85gl7mj4uk14pua7uooefls</td>\n      <td>2020-10-25 13:30:00+01:00 - L’ENFER EN FRANCE</td>\n    </tr>\n    <tr>\n      <th>2020-10-24 15:00:00</th>\n      <td>10-24 15:00</td>\n      <td>Flemish For Beginners</td>\n      <td>mj7c5ohbsvjf86j3gvq7gokauk</td>\n      <td>2020-10-24 17:00:00+02:00 - Flemish For Beginners</td>\n    </tr>\n    <tr>\n      <th>2020-10-11 11:30:00</th>\n      <td>10-11 11:30</td>\n      <td>The Amstell Racing Race</td>\n      <td>g9ppg505frhf6ljjcovkvu549c</td>\n      <td>2020-10-11 13:30:00+02:00 - The Amstell Racing...</td>\n    </tr>\n    <tr>\n      <th>2020-08-29 11:30:00</th>\n      <td>08-29 11:30</td>\n      <td>Vive La France - Stage 1</td>\n      <td>dthlbhihmfhg1vfq6lpe8jl4go</td>\n      <td>2020-08-29 13:30:00+02:00 - Vive La France - S...</td>\n    </tr>\n  </tbody>\n</table>\n<p>88 rows × 4 columns</p>\n</div>"
     },
     "metadata": {},
     "execution_count": 183
    }
   ],
   "source": [
    "df"
   ]
  },
  {
   "cell_type": "code",
   "execution_count": 184,
   "metadata": {},
   "outputs": [
    {
     "output_type": "stream",
     "name": "stdout",
     "text": [
      "Skipping 2021-02-28 09:00:00 GFNS JENSIE E-FONDO\n",
      "* Adding: 2021-02-21 15:00:00 Lou's Sunday Group Ride\n",
      "ID after add: None Returned event ID: nq3nfqhh2elek93mejmv70p9ek\n",
      "* Adding: 2021-02-21 14:00:00 MRETT13 Lou's Team\n",
      "ID after add: None Returned event ID: fi3r5o44hdj2sejsbncb860s50\n",
      "Skipping 2021-02-21 09:00:00 GFNS GOLDEN E-FONDO\n",
      "* Adding: 2021-02-20 15:00:00 Lou's Saturday Group Ride\n",
      "ID after add: None Returned event ID: nbc2hqtst2u0h5ib6fh0gbs8b0\n",
      "Skipping 2021-02-19 15:00:00 Lou's Fri Drafting Clinic\n",
      "Skipping 2021-02-18 15:00:00 Lou's Thurs Draft Clinic\n",
      "Skipping 2021-02-18 07:00:00 Thursday under/overs\n",
      "Skipping 2021-02-17 05:00:00 The Recovery Ride\n",
      "Skipping 2021-02-16 15:00:00 Lous Tues drafting clinic\n",
      "Skipping 2021-02-16 07:00:00 Tuesday SS training\n",
      "Skipping 2021-02-14 15:00:00 Lou's Sunday Group Ride\n",
      "Skipping 2021-02-14 14:00:00 MRETT12 Lou's Team\n",
      "Skipping 2021-02-14 09:00:00 GFNS HIGHLANDS E-FONDO\n",
      "Skipping 2021-02-13 15:00:00 Lou's Saturday Group Ride\n",
      "Skipping 2021-02-12 15:00:00 Race to the Light House\n",
      "Skipping 2021-02-11 07:00:00 Thursday SST\n",
      "Skipping 2021-02-10 07:00:00 Breakfast Club\n",
      "Skipping 2021-02-09 15:00:00 Gran Premio Pienza\n",
      "Skipping 2021-02-09 15:00:00 Chat Laps\n",
      "Skipping 2021-02-09 07:00:00 Tuesday SST\n",
      "Skipping 2021-02-07 15:00:00 Lou's Sunday Group Ride\n",
      "Skipping 2021-02-07 14:15:00 Lou's Team MRETT11\n",
      "Skipping 2021-02-07 09:00:00 GFNS E-Fondo Florida\n",
      "Skipping 2021-02-07 09:00:00 Herd Sunday 2 Pace Ride\n",
      "Skipping 2021-02-06 16:00:00 LOBSTER BITE RACE\n",
      "Skipping 2021-02-06 15:00:00 Lou's Saturday Group Ride\n",
      "Skipping 2021-02-06 09:30:00 Edinburgh Lockdown Loop 1\n",
      "Skipping 2021-02-06 09:30:00 APPLECROSS - ENDURANCE RR\n",
      "Skipping 2021-02-05 15:00:00 Chat Laps\n",
      "Skipping 2021-02-04 16:00:00 Pedal2Empower group ride\n",
      "Skipping 2021-02-03 15:00:00 Chat Laps\n",
      "Skipping 2021-02-03 07:00:00 Breakfast Club\n",
      "Skipping 2021-02-02 15:00:00 Chat Laps\n",
      "Skipping 2021-02-01 07:00:00 Breakfast Club\n",
      "Skipping 2021-01-31 15:00:00 Lou's Sunday Group Ride\n",
      "Skipping 2021-01-31 09:00:00 Herd 2 Pace Sunday Ride\n",
      "Skipping 2021-01-30 15:00:00 Lou's Saturday Group Ride\n",
      "Skipping 2021-01-30 09:30:00 Newcastle Lockdown Loop 1\n",
      "Skipping 2021-01-24 15:00:00 Lou's Sunday Group Ride\n",
      "Skipping 2021-01-24 11:00:00 WKG's Watts Occurring\n",
      "Skipping 2021-01-24 10:00:00 The Fleche Waltonne\n",
      "Skipping 2021-01-24 09:00:00 Herd Sunday 2 Pace Ride\n",
      "Skipping 2021-01-23 15:00:00 Lou's Saturday Group Ride\n",
      "Skipping 2021-01-23 09:00:00 Reiver social ride out\n",
      "Skipping 2021-01-17 12:30:00 TDM_STAGE12_3\n",
      "Skipping 2021-01-17 06:30:00 TDM_STAGE12_2\n",
      "Skipping 2021-01-16 12:30:00 TDM 11 Lou’s Team\n",
      "Skipping 2021-01-14 06:30:00 TDM_STAGE10_2\n",
      "Skipping 2021-01-13 06:30:00 TDM_STAGE9_2\n",
      "Skipping 2021-01-12 06:30:00 TDM_STAGE8_2\n",
      "Skipping 2021-01-10 06:30:00 TDM_STAGE7_2\n",
      "Skipping 2021-01-09 06:30:00 TDM_STAGE6_2\n",
      "Skipping 2021-01-08 12:00:00 TDM rest day ride.\n",
      "Skipping 2021-01-07 12:30:00 TDM_STAGE5_3\n",
      "Skipping 2021-01-06 12:30:00 TDM_STAGE4_3\n",
      "Skipping 2021-01-05 12:30:00 TDM_STAGE3_3\n",
      "Skipping 2021-01-03 12:30:00 TDM_STAGE2_3\n",
      "Skipping 2021-01-03 06:30:00 TDM_STAGE2_2\n",
      "Skipping 2021-01-02 15:00:00 Lou's Saturday Group Ride\n",
      "Skipping 2021-01-02 12:30:00 TdM_Stage1_3\n",
      "Skipping 2020-12-31 15:00:00 Lou's New Years Eve Ride\n",
      "Skipping 2020-12-31 11:00:00 STD Recovery-Ride\n",
      "Skipping 2020-12-30 08:30:00 PRT Tempo 2Hrs\n",
      "Skipping 2020-12-29 15:00:00 Lou's Drafting Clinic\n",
      "Skipping 2020-12-29 11:00:00 Festive 500: three rivers\n",
      "Skipping 2020-12-28 12:00:00 Festive 500: lowlands\n",
      "Skipping 2020-12-27 11:00:00 Festive 500: quarantine\n",
      "Skipping 2020-12-25 16:01:00 Virtuslo NYT | stage 1(B)\n",
      "Skipping 2020-12-25 12:30:00 Festive 500: the river\n",
      "Skipping 2020-12-24 12:30:00 Festive 500 opening lap\n",
      "Skipping 2020-12-24 11:00:00 STD Group-Ride <2.6w/kg\n",
      "Skipping 2020-12-23 17:00:00 Probike Groupride\n",
      "Skipping 2020-12-22 11:00:00 Eat DIRT on RGT\n",
      "Skipping 2020-12-20 15:00:00 Lou’s Sunday Group Ride\n",
      "Skipping 2020-12-20 10:00:00 Swynnerton GP Classic\n",
      "Skipping 2020-12-20 08:00:00 Imperial Century 100mi!\n",
      "Skipping 2020-12-19 15:00:00 Lou’s Saturday Group Ride\n",
      "Skipping 2020-12-19 13:30:00 Red Bull Bay Climb 2\n",
      "Skipping 2020-12-12 09:30:00 Escape To Alcatraz 1\n",
      "Skipping 2020-12-09 17:00:00 Probike Academy Ride\n",
      "Skipping 2020-11-22 08:00:00 Imperial Century 40mi\n",
      "Skipping 2020-11-19 16:00:00 Thursday Sweet Spot PM\n",
      "Skipping 2020-11-19 04:45:00 Thursday Sweet Spot AM\n",
      "Skipping 2020-10-25 12:30:00 L’ENFER EN FRANCE\n",
      "Skipping 2020-10-24 15:00:00 Flemish For Beginners\n",
      "Skipping 2020-10-11 11:30:00 The Amstell Racing Race\n",
      "Skipping 2020-08-29 11:30:00 Vive La France - Stage 1\n"
     ]
    }
   ],
   "source": [
    "for index, row in df.iterrows():\n",
    "\n",
    "    if row['cal_id'] == None:\n",
    "\n",
    "        print('* Adding:', index, row['Name'])\n",
    "\n",
    "        evntColor = '1'\n",
    "\n",
    "        event = gcEvent(\n",
    "            str(row['Name']),\n",
    "            start=index,\n",
    "            timezone='UTC',\n",
    "            color = evntColor\n",
    "        )\n",
    "\n",
    "        #print('ID before add:', event.event_id)\n",
    "        ret_event = calendar.add_event(event)\n",
    "        print('ID after add:', event.event_id, 'Returned event ID:', ret_event.event_id)\n",
    "\n",
    "    else: \n",
    "        print('Skipping', index, row['Name'])"
   ]
  },
  {
   "cell_type": "code",
   "execution_count": 185,
   "metadata": {},
   "outputs": [],
   "source": [
    "#event = df['event_obj'].iloc[4]\n",
    "#event.id"
   ]
  },
  {
   "cell_type": "code",
   "execution_count": 186,
   "metadata": {},
   "outputs": [],
   "source": [
    "#calendar.update_event(event)\n"
   ]
  },
  {
   "cell_type": "code",
   "execution_count": 187,
   "metadata": {},
   "outputs": [],
   "source": [
    "#event.summary"
   ]
  },
  {
   "cell_type": "code",
   "execution_count": null,
   "metadata": {},
   "outputs": [],
   "source": []
  }
 ]
}