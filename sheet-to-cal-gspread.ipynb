{
 "metadata": {
  "language_info": {
   "codemirror_mode": {
    "name": "ipython",
    "version": 3
   },
   "file_extension": ".py",
   "mimetype": "text/x-python",
   "name": "python",
   "nbconvert_exporter": "python",
   "pygments_lexer": "ipython3",
   "version": "3.8.3-final"
  },
  "orig_nbformat": 2,
  "kernelspec": {
   "name": "python3",
   "display_name": "Python 3.8.3 64-bit ('.pyenv': pyenv)",
   "metadata": {
    "interpreter": {
     "hash": "c6058771e76072e6df2838112285e22d9c068fdecc31a15dd5573347643739d1"
    }
   }
  }
 },
 "nbformat": 4,
 "nbformat_minor": 2,
 "cells": [
  {
   "cell_type": "code",
   "execution_count": 1,
   "metadata": {},
   "outputs": [
    {
     "output_type": "stream",
     "name": "stdout",
     "text": [
      "Requirement already up-to-date: gspread in /Users/gordon/.pyenv/versions/3.8.3/lib/python3.8/site-packages (3.6.0)\n",
      "Requirement already satisfied, skipping upgrade: google-auth>=1.12.0 in /Users/gordon/.pyenv/versions/3.8.3/lib/python3.8/site-packages (from gspread) (1.23.0)\n",
      "Requirement already satisfied, skipping upgrade: requests>=2.2.1 in /Users/gordon/.pyenv/versions/3.8.3/lib/python3.8/site-packages (from gspread) (2.25.0)\n",
      "Requirement already satisfied, skipping upgrade: google-auth-oauthlib>=0.4.1 in /Users/gordon/.pyenv/versions/3.8.3/lib/python3.8/site-packages (from gspread) (0.4.2)\n",
      "Requirement already satisfied, skipping upgrade: pyasn1-modules>=0.2.1 in /Users/gordon/.pyenv/versions/3.8.3/lib/python3.8/site-packages (from google-auth>=1.12.0->gspread) (0.2.8)\n",
      "Requirement already satisfied, skipping upgrade: six>=1.9.0 in /Users/gordon/.pyenv/versions/3.8.3/lib/python3.8/site-packages (from google-auth>=1.12.0->gspread) (1.15.0)\n",
      "Requirement already satisfied, skipping upgrade: cachetools<5.0,>=2.0.0 in /Users/gordon/.pyenv/versions/3.8.3/lib/python3.8/site-packages (from google-auth>=1.12.0->gspread) (4.1.1)\n",
      "Requirement already satisfied, skipping upgrade: rsa<5,>=3.1.4; python_version >= \"3.5\" in /Users/gordon/.pyenv/versions/3.8.3/lib/python3.8/site-packages (from google-auth>=1.12.0->gspread) (4.6)\n",
      "Requirement already satisfied, skipping upgrade: setuptools>=40.3.0 in /Users/gordon/.pyenv/versions/3.8.3/lib/python3.8/site-packages (from google-auth>=1.12.0->gspread) (41.2.0)\n",
      "Requirement already satisfied, skipping upgrade: urllib3<1.27,>=1.21.1 in /Users/gordon/.pyenv/versions/3.8.3/lib/python3.8/site-packages (from requests>=2.2.1->gspread) (1.26.2)\n",
      "Requirement already satisfied, skipping upgrade: chardet<4,>=3.0.2 in /Users/gordon/.pyenv/versions/3.8.3/lib/python3.8/site-packages (from requests>=2.2.1->gspread) (3.0.4)\n",
      "Requirement already satisfied, skipping upgrade: certifi>=2017.4.17 in /Users/gordon/.pyenv/versions/3.8.3/lib/python3.8/site-packages (from requests>=2.2.1->gspread) (2020.6.20)\n",
      "Requirement already satisfied, skipping upgrade: idna<3,>=2.5 in /Users/gordon/.pyenv/versions/3.8.3/lib/python3.8/site-packages (from requests>=2.2.1->gspread) (2.10)\n",
      "Requirement already satisfied, skipping upgrade: requests-oauthlib>=0.7.0 in /Users/gordon/.pyenv/versions/3.8.3/lib/python3.8/site-packages (from google-auth-oauthlib>=0.4.1->gspread) (1.3.0)\n",
      "Requirement already satisfied, skipping upgrade: pyasn1<0.5.0,>=0.4.6 in /Users/gordon/.pyenv/versions/3.8.3/lib/python3.8/site-packages (from pyasn1-modules>=0.2.1->google-auth>=1.12.0->gspread) (0.4.8)\n",
      "Requirement already satisfied, skipping upgrade: oauthlib>=3.0.0 in /Users/gordon/.pyenv/versions/3.8.3/lib/python3.8/site-packages (from requests-oauthlib>=0.7.0->google-auth-oauthlib>=0.4.1->gspread) (3.1.0)\n"
     ]
    }
   ],
   "source": [
    "!pip install --upgrade gspread"
   ]
  },
  {
   "cell_type": "code",
   "execution_count": 7,
   "metadata": {},
   "outputs": [],
   "source": [
    "import gspread\n",
    "\n",
    "#gc = gspread.service_account()\n",
    "gc = gspread.oauth()\n",
    "\n",
    "# Open a sheet from a spreadsheet in one go\n",
    "#wks = gc.open_by_key('0BmgG6nO_6dprdS1MN3d3MkdPa142WFRrdnRRUWl1UFE')"
   ]
  },
  {
   "cell_type": "code",
   "execution_count": 9,
   "metadata": {
    "tags": []
   },
   "outputs": [
    {
     "output_type": "execute_result",
     "data": {
      "text/plain": [
       "           0           1                                                  2   \\\n",
       "0     Tuesday  11/10/2020                                                      \n",
       "1                          Please check carefully which day / date the ev...   \n",
       "2                          If you are adding an event, then enter the BST...   \n",
       "3        Date                                                          Time    \n",
       "4                                                               GMT (London)   \n",
       "..        ...         ...                                                ...   \n",
       "128      Weds   17-Mar-21                                            7:30 pm   \n",
       "129      Weds   31-Mar-21                                            7:30 pm   \n",
       "130      Weds   18-Nov-20                                            5:00 am   \n",
       "131  Thursday   19-Nov-20                                            4:45 am   \n",
       "132  Thursday   19-Nov-20                                            4:00 pm   \n",
       "\n",
       "               3               4              5   \\\n",
       "0                                          06:00   \n",
       "1                                                  \n",
       "2                                                  \n",
       "3                                                  \n",
       "4    CET (Europe)  EST (New York)  AEST (Sydney)   \n",
       "..            ...             ...            ...   \n",
       "128       8:30 pm         2:30 pm        6:30 am   \n",
       "129       8:30 pm         2:30 pm        6:30 am   \n",
       "130       6:00 am        12:00 am        4:00 pm   \n",
       "131       5:45 am        11:45 pm        3:45 pm   \n",
       "132       5:00 pm        11:00 am        3:00 am   \n",
       "\n",
       "                                                    6   \\\n",
       "0                            AEST Juicy Tuesday Race 3   \n",
       "1    Grey out cells in columns A and B when date ha...   \n",
       "2                          Scroll for more details--->   \n",
       "3                                           Event Name   \n",
       "4                                                        \n",
       "..                                                 ...   \n",
       "128                             WESTERLEY VR Race 2.11   \n",
       "129                             WESTERLEY VR Race 2.12   \n",
       "130              Wednesday Fasted Ride - Group Workout   \n",
       "131             Thursday Sweet Spot AM - Group Workout   \n",
       "132             Thursday Sweet Spot PM - Group Workout   \n",
       "\n",
       "                               7              8              9   \\\n",
       "0    Thornwood Basher Loop 4 Laps         28.8km                  \n",
       "1                                                                 \n",
       "2                                                                 \n",
       "3                          Course  Distance (km)  Elevation (m)   \n",
       "4                                                                 \n",
       "..                            ...            ...            ...   \n",
       "128                           TBC           16.0            TBC   \n",
       "129                           TBC           16.0            TBC   \n",
       "130                  Canary Wharf        45 mins              -   \n",
       "131                  Canary Wharf        76 mins              -   \n",
       "132                  Canary Wharf        76 mins              -   \n",
       "\n",
       "                10               11  \\\n",
       "0        Road Race                    \n",
       "1            group                    \n",
       "2                                     \n",
       "3      Type (Laps)  Entrants so Far   \n",
       "4                                     \n",
       "..             ...              ...   \n",
       "128      Road Race                    \n",
       "129      Road Race                    \n",
       "130  Group Workout                    \n",
       "131  Group Workout                    \n",
       "132  Group Workout                    \n",
       "\n",
       "                                                  12  \\\n",
       "0    http://app.rgtcycling.com/event?code=xFapsAzwGN   \n",
       "1                                                      \n",
       "2                                                      \n",
       "3                                        Signup Link   \n",
       "4                                                      \n",
       "..                                               ...   \n",
       "128                                              TBC   \n",
       "129                                              TBC   \n",
       "130  http://app.rgtcycling.com/event?code=FUQy5RvTqt   \n",
       "131  http://app.rgtcycling.com/event?code=104uKueUoE   \n",
       "132  http://app.rgtcycling.com/event?code=Yw5tUfkT76   \n",
       "\n",
       "                                                    13 14 15 16  \\\n",
       "0    All results will goto GC, AEST Overall points ...            \n",
       "1                                                                 \n",
       "2                                                                 \n",
       "3                                          Description            \n",
       "4                                                                 \n",
       "..                                                 ... .. .. ..   \n",
       "128  Fast and Furious WESTERLEY VR 16km races - Cou...            \n",
       "129  Fast and Furious WESTERLEY VR 16km races - Cou...            \n",
       "130                        Fasted endurance ride in Z2            \n",
       "131   Sweet spot group workout 4x12mins  in 88-94% FTP            \n",
       "132   Sweet spot group workout 4x12mins  in 88-94% FTP            \n",
       "\n",
       "                  17     18                                                 19  \n",
       "0                                                                               \n",
       "1                                                                               \n",
       "2                                                                               \n",
       "3    New York offset  19:00                                                     \n",
       "4      Sydney Offset  11:00  Note if the event is PM for London and AM for ...  \n",
       "..               ...    ...                                                ...  \n",
       "128                                                                             \n",
       "129                                                                             \n",
       "130                                                                             \n",
       "131                                                                             \n",
       "132                                                                             \n",
       "\n",
       "[133 rows x 20 columns]"
      ],
      "text/html": "<div>\n<style scoped>\n    .dataframe tbody tr th:only-of-type {\n        vertical-align: middle;\n    }\n\n    .dataframe tbody tr th {\n        vertical-align: top;\n    }\n\n    .dataframe thead th {\n        text-align: right;\n    }\n</style>\n<table border=\"1\" class=\"dataframe\">\n  <thead>\n    <tr style=\"text-align: right;\">\n      <th></th>\n      <th>0</th>\n      <th>1</th>\n      <th>2</th>\n      <th>3</th>\n      <th>4</th>\n      <th>5</th>\n      <th>6</th>\n      <th>7</th>\n      <th>8</th>\n      <th>9</th>\n      <th>10</th>\n      <th>11</th>\n      <th>12</th>\n      <th>13</th>\n      <th>14</th>\n      <th>15</th>\n      <th>16</th>\n      <th>17</th>\n      <th>18</th>\n      <th>19</th>\n    </tr>\n  </thead>\n  <tbody>\n    <tr>\n      <th>0</th>\n      <td>Tuesday</td>\n      <td>11/10/2020</td>\n      <td></td>\n      <td></td>\n      <td></td>\n      <td>06:00</td>\n      <td>AEST Juicy Tuesday Race 3</td>\n      <td>Thornwood Basher Loop 4 Laps</td>\n      <td>28.8km</td>\n      <td></td>\n      <td>Road Race</td>\n      <td></td>\n      <td>http://app.rgtcycling.com/event?code=xFapsAzwGN</td>\n      <td>All results will goto GC, AEST Overall points ...</td>\n      <td></td>\n      <td></td>\n      <td></td>\n      <td></td>\n      <td></td>\n      <td></td>\n    </tr>\n    <tr>\n      <th>1</th>\n      <td></td>\n      <td></td>\n      <td>Please check carefully which day / date the ev...</td>\n      <td></td>\n      <td></td>\n      <td></td>\n      <td>Grey out cells in columns A and B when date ha...</td>\n      <td></td>\n      <td></td>\n      <td></td>\n      <td>group</td>\n      <td></td>\n      <td></td>\n      <td></td>\n      <td></td>\n      <td></td>\n      <td></td>\n      <td></td>\n      <td></td>\n      <td></td>\n    </tr>\n    <tr>\n      <th>2</th>\n      <td></td>\n      <td></td>\n      <td>If you are adding an event, then enter the BST...</td>\n      <td></td>\n      <td></td>\n      <td></td>\n      <td>Scroll for more details---&gt;</td>\n      <td></td>\n      <td></td>\n      <td></td>\n      <td></td>\n      <td></td>\n      <td></td>\n      <td></td>\n      <td></td>\n      <td></td>\n      <td></td>\n      <td></td>\n      <td></td>\n      <td></td>\n    </tr>\n    <tr>\n      <th>3</th>\n      <td>Date</td>\n      <td></td>\n      <td>Time</td>\n      <td></td>\n      <td></td>\n      <td></td>\n      <td>Event Name</td>\n      <td>Course</td>\n      <td>Distance (km)</td>\n      <td>Elevation (m)</td>\n      <td>Type (Laps)</td>\n      <td>Entrants so Far</td>\n      <td>Signup Link</td>\n      <td>Description</td>\n      <td></td>\n      <td></td>\n      <td></td>\n      <td>New York offset</td>\n      <td>19:00</td>\n      <td></td>\n    </tr>\n    <tr>\n      <th>4</th>\n      <td></td>\n      <td></td>\n      <td>GMT (London)</td>\n      <td>CET (Europe)</td>\n      <td>EST (New York)</td>\n      <td>AEST (Sydney)</td>\n      <td></td>\n      <td></td>\n      <td></td>\n      <td></td>\n      <td></td>\n      <td></td>\n      <td></td>\n      <td></td>\n      <td></td>\n      <td></td>\n      <td></td>\n      <td>Sydney Offset</td>\n      <td>11:00</td>\n      <td>Note if the event is PM for London and AM for ...</td>\n    </tr>\n    <tr>\n      <th>...</th>\n      <td>...</td>\n      <td>...</td>\n      <td>...</td>\n      <td>...</td>\n      <td>...</td>\n      <td>...</td>\n      <td>...</td>\n      <td>...</td>\n      <td>...</td>\n      <td>...</td>\n      <td>...</td>\n      <td>...</td>\n      <td>...</td>\n      <td>...</td>\n      <td>...</td>\n      <td>...</td>\n      <td>...</td>\n      <td>...</td>\n      <td>...</td>\n      <td>...</td>\n    </tr>\n    <tr>\n      <th>128</th>\n      <td>Weds</td>\n      <td>17-Mar-21</td>\n      <td>7:30 pm</td>\n      <td>8:30 pm</td>\n      <td>2:30 pm</td>\n      <td>6:30 am</td>\n      <td>WESTERLEY VR Race 2.11</td>\n      <td>TBC</td>\n      <td>16.0</td>\n      <td>TBC</td>\n      <td>Road Race</td>\n      <td></td>\n      <td>TBC</td>\n      <td>Fast and Furious WESTERLEY VR 16km races - Cou...</td>\n      <td></td>\n      <td></td>\n      <td></td>\n      <td></td>\n      <td></td>\n      <td></td>\n    </tr>\n    <tr>\n      <th>129</th>\n      <td>Weds</td>\n      <td>31-Mar-21</td>\n      <td>7:30 pm</td>\n      <td>8:30 pm</td>\n      <td>2:30 pm</td>\n      <td>6:30 am</td>\n      <td>WESTERLEY VR Race 2.12</td>\n      <td>TBC</td>\n      <td>16.0</td>\n      <td>TBC</td>\n      <td>Road Race</td>\n      <td></td>\n      <td>TBC</td>\n      <td>Fast and Furious WESTERLEY VR 16km races - Cou...</td>\n      <td></td>\n      <td></td>\n      <td></td>\n      <td></td>\n      <td></td>\n      <td></td>\n    </tr>\n    <tr>\n      <th>130</th>\n      <td>Weds</td>\n      <td>18-Nov-20</td>\n      <td>5:00 am</td>\n      <td>6:00 am</td>\n      <td>12:00 am</td>\n      <td>4:00 pm</td>\n      <td>Wednesday Fasted Ride - Group Workout</td>\n      <td>Canary Wharf</td>\n      <td>45 mins</td>\n      <td>-</td>\n      <td>Group Workout</td>\n      <td></td>\n      <td>http://app.rgtcycling.com/event?code=FUQy5RvTqt</td>\n      <td>Fasted endurance ride in Z2</td>\n      <td></td>\n      <td></td>\n      <td></td>\n      <td></td>\n      <td></td>\n      <td></td>\n    </tr>\n    <tr>\n      <th>131</th>\n      <td>Thursday</td>\n      <td>19-Nov-20</td>\n      <td>4:45 am</td>\n      <td>5:45 am</td>\n      <td>11:45 pm</td>\n      <td>3:45 pm</td>\n      <td>Thursday Sweet Spot AM - Group Workout</td>\n      <td>Canary Wharf</td>\n      <td>76 mins</td>\n      <td>-</td>\n      <td>Group Workout</td>\n      <td></td>\n      <td>http://app.rgtcycling.com/event?code=104uKueUoE</td>\n      <td>Sweet spot group workout 4x12mins  in 88-94% FTP</td>\n      <td></td>\n      <td></td>\n      <td></td>\n      <td></td>\n      <td></td>\n      <td></td>\n    </tr>\n    <tr>\n      <th>132</th>\n      <td>Thursday</td>\n      <td>19-Nov-20</td>\n      <td>4:00 pm</td>\n      <td>5:00 pm</td>\n      <td>11:00 am</td>\n      <td>3:00 am</td>\n      <td>Thursday Sweet Spot PM - Group Workout</td>\n      <td>Canary Wharf</td>\n      <td>76 mins</td>\n      <td>-</td>\n      <td>Group Workout</td>\n      <td></td>\n      <td>http://app.rgtcycling.com/event?code=Yw5tUfkT76</td>\n      <td>Sweet spot group workout 4x12mins  in 88-94% FTP</td>\n      <td></td>\n      <td></td>\n      <td></td>\n      <td></td>\n      <td></td>\n      <td></td>\n    </tr>\n  </tbody>\n</table>\n<p>133 rows × 20 columns</p>\n</div>"
     },
     "metadata": {},
     "execution_count": 9
    }
   ],
   "source": [
    "SAMPLE_SPREADSHEET_ID = '1SG5HGFDEl71RQOhdprxiabxa-rJzxn7CM5p1tHR5Sx0'\n",
    "SAMPLE_RANGE_NAME = 'Events!A5:N'\n",
    "\n",
    "worksheet = gc.open_by_key(SAMPLE_SPREADSHEET_ID).sheet1 # get_all_values gives a list of rows.\n",
    "rows = worksheet.get_all_values()\n",
    "#print(rows) \n",
    "\n",
    "import pandas as pd\n",
    "pd.DataFrame.from_records(rows)"
   ]
  },
  {
   "cell_type": "code",
   "execution_count": null,
   "metadata": {},
   "outputs": [],
   "source": []
  }
 ]
}